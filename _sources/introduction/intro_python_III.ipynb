{
 "cells": [
  {
   "cell_type": "markdown",
   "id": "349364f1",
   "metadata": {},
   "source": [
    "# Introduction VII - Introduction to Python III\n",
    "\n",
    "[Michael Ernst](https://github.com/M-earnest)  \n",
    "Phd student - [Fiebach Lab](http://www.fiebachlab.org/), [Neurocognitive Psychology](https://www.psychologie.uni-frankfurt.de/49868684/Abteilungen) at [Goethe-University Frankfurt](https://www.goethe-university-frankfurt.de/en?locale=en)"
   ]
  },
  {
   "cell_type": "markdown",
   "id": "2fa438e8",
   "metadata": {
    "slideshow": {
     "slide_type": "slide"
    }
   },
   "source": [
    "## Before we get started ...\n",
    "<br>\n",
    "\n",
    "- most of what you’ll see within this lecture was prepared by Ross Markello, Michael Notter and Peer Herholz and further adapted for this course by Maren Wehrheim \n",
    "- based on Tal Yarkoni's [\"Introduction to Python\" lecture at Neurohackademy 2019](https://neurohackademy.org/course/introduction-to-python-2/)\n",
    "- based on [IPython notebooks from J. R. Johansson](http://github.com/jrjohansson/scientific-python-lectures)\n",
    "- based on http://www.stavros.io/tutorials/python/ & http://www.swaroopch.com/notes/python\n",
    "- based on https://github.com/oesteban/biss2016 &  https://github.com/jvns/pandas-cookbook\n",
    "\n",
    "[Maren Wehrheim]()\n",
    "\n",
    "Phd student - [FIAS(Frankfurt Institute for Advanced Studies) - Kaschube-Lab](https://www.fias.science/en/life-and-neurosciences/research-groups/matthias-kaschube/) and [Fiebach Lab](http://www.fiebachlab.org/), [Neurocognitive Psychology](https://www.psychologie.uni-frankfurt.de/49868684/Abteilungen) at [Goethe-University Frankfurt](https://www.goethe-university-frankfurt.de/en?locale=en)\n",
    "<img align=\"left\" src=\"https://raw.githubusercontent.com/G0RELLA/gorella_mwn/master/lecture/static/GitHub-Mark-120px-plus.png\" alt=\"logo\" title=\"Github\" width=\"30\" height=\"20\" />  \n",
    "\n",
    "[@maren7794](https://github.com/maren7794)\n",
    "\n"
   ]
  },
  {
   "cell_type": "markdown",
   "id": "a1468b33",
   "metadata": {
    "slideshow": {
     "slide_type": "subslide"
    }
   },
   "source": [
    "What we will do in this section of the course is a _short_ introduction to `Python` to help beginners to get familiar with this `programming language`.\n",
    "\n",
    "It is divided into the following chapters:\n",
    "\n",
    "- [Module](#Module)\n",
    "- [Help and Descriptions](#Help-and-Descriptions)\n",
    "- [Variables and types](#Variables-and-types)\n",
    "    - [Symbol names](#Symbol-names)\n",
    "    - [Assignment](#Assignment)\n",
    "    - [Fundamental types](#Fundamental-types)\n",
    "- [Operators and comparisons](#Operators-and-comparisons)\n",
    "    - [Shortcut math operation and assignment](#Shortcut-math-operation-and-assignment)\n",
    "- [Strings, List and dictionaries](#Strings,-List-and-dictionaries)\n",
    "    - [Strings](#Strings)\n",
    "    - [List](#List)\n",
    "    - [Tuples](#Tuples)\n",
    "    - [Dictionaries](#Dictionaries)\n",
    "- [Indentation](#Indentation)\n",
    "- [Control Flow](#Control-Flow)\n",
    "    - [Conditional statements: `if`, `elif`, `else`](#Conditional-statements:-if,-elif,-else)\n",
    "- [Loops](#Loops)\n",
    "    - [`for` loops](#for-loops)\n",
    "    - [`break`, `continue` and `pass`](#break,-continue-and-pass)\n",
    "- [Functions](#Functions)\n",
    "    - [Default argument and keyword arguments](#Default-argument-and-keyword-arguments)\n",
    "    - [`*args` and `*kwargs` parameters](#*args-and-*kwargs-parameters)"
   ]
  },
  {
   "cell_type": "markdown",
   "id": "f148809c",
   "metadata": {
    "slideshow": {
     "slide_type": "subslide"
    }
   },
   "source": [
    "Here's what we will focus on in this block:\n",
    "\n",
    "Recap\n",
    "\n",
    "- [Operators and comparisons](#Operators-and-comparisons)\n",
    "    - [Shortcut math operation and assignment](#Shortcut-math-operation-and-assignment)\n",
    "- [Strings, List and dictionaries](#Strings,-List-and-dictionaries)\n",
    "    - [Strings](#Strings)\n",
    "    - [List](#List)\n",
    "    - [Tuples](#Tuples)\n",
    "    - [Dictionaries](#Dictionaries)\n",
    "\n",
    "This session\n",
    "- [Indentation](#Indentation)\n",
    "- [Control Flow](#Control-Flow)\n",
    "    - [Conditional statements: `if`, `elif`, `else`](#Conditional-statements:-if,-elif,-else)\n",
    "- [Loops](#Loops)\n",
    "    - [`for` loops](#for-loops)\n",
    "    - [`break`, `continue` and `pass`](#break,-continue-and-pass)\n",
    "- [Functions](#Functions)\n",
    "    - [Default argument and keyword arguments](#Default-argument-and-keyword-arguments)\n",
    "    - [`*args` and `*kwargs` parameters](#*args-and-*kwargs-parameters)"
   ]
  },
  {
   "cell_type": "markdown",
   "id": "734b0855",
   "metadata": {
    "slideshow": {
     "slide_type": "slide"
    }
   },
   "source": [
    "# Recap of the last session\n",
    "\n",
    "Before we dive into new endeavors, it might be important to briefly recap the things we've talked about so far. Specifically, we will do this to evaluate if everyone's roughly on the same page. Thus, if some of the aspects within the recap are either new or fuzzy to you, please have a quick look at the respective part of the [first session](https://peerherholz.github.io/Python_for_Psychologists_Winter2021/introduction/intro_python_I.html) and [second session](https://peerherholz.github.io/Python_for_Psychologists_Winter2021/introduction/intro_python_II.html) again and as usual: ask questions wherever something is not clear.\n",
    "\n",
    "This recap will cover the following topics from the last sessions:\n",
    "\n",
    "- variables and types\n",
    "- operators and comparison\n",
    "- strings, lists and dictionaries"
   ]
  },
  {
   "cell_type": "markdown",
   "id": "73e74a18",
   "metadata": {
    "slideshow": {
     "slide_type": "subslide"
    }
   },
   "source": [
    "## Variables and data types\n",
    "\n",
    "###### Exercise 1.1\n",
    "\n",
    "\n",
    "Two session ago we declared several variables. Could you here create a variable for the following:\n",
    "\n",
    "- a variable `random_number` with a number between 0 and 10\n",
    "- a variable called `my_favorite_food` indicating your favorite food\n",
    "\n",
    "What `data types` do each of these variables have?"
   ]
  },
  {
   "cell_type": "code",
   "execution_count": 1,
   "id": "c96b28e7",
   "metadata": {
    "slideshow": {
     "slide_type": "fragment"
    },
    "solution2": "hidden",
    "solution2_first": true
   },
   "outputs": [],
   "source": [
    "# Please write your solution here"
   ]
  },
  {
   "cell_type": "markdown",
   "id": "d7f0e27e",
   "metadata": {
    "slideshow": {
     "slide_type": "subslide"
    }
   },
   "source": [
    "## operators and comparison\n",
    "\n",
    "###### Exercise 1.2\n",
    "\n",
    "Please calculate the following and `assign` them to the `variables` `a`, `b`, `c`, etc., if needed:\n",
    "\n",
    "- 10 divided by 3\n",
    "- 6 to the power of 2\n",
    "- 5 times 29 times 48\n",
    "\n",
    "\n",
    "- Update c by adding 10\n",
    "- Update b by dividing it by 5\n",
    "\n",
    "\n",
    "- Is c divisible by 5?\n",
    "- Is a larger than b?\n",
    "- Are c and b equal?"
   ]
  },
  {
   "cell_type": "code",
   "execution_count": 3,
   "id": "0922e130",
   "metadata": {
    "slideshow": {
     "slide_type": "fragment"
    },
    "solution2": "hidden",
    "solution2_first": true
   },
   "outputs": [],
   "source": [
    "# Please write your solution here"
   ]
  },
  {
   "cell_type": "markdown",
   "id": "66e51616",
   "metadata": {
    "slideshow": {
     "slide_type": "subslide"
    }
   },
   "source": [
    "## strings, lists and dictionaries\n",
    "\n",
    "###### Exercise 1.3\n",
    "\n",
    "You just did an experiment asking 10 people for a random number between 0 and 100. What `data structure` would you use to store these values using python? \n",
    "\n",
    "Assume the values were: `1; 50; 23; 77; 91; 3; 34; 81; 55; 49`. How would you define a variable of your selected data type to store these values?"
   ]
  },
  {
   "cell_type": "code",
   "execution_count": 5,
   "id": "3e042f30",
   "metadata": {
    "slideshow": {
     "slide_type": "fragment"
    },
    "solution2": "hidden",
    "solution2_first": true
   },
   "outputs": [],
   "source": [
    "# Please write your solution here"
   ]
  },
  {
   "cell_type": "markdown",
   "id": "25117482",
   "metadata": {
    "slideshow": {
     "slide_type": "subslide"
    }
   },
   "source": [
    "###### Exercise 1.4\n",
    "\n",
    "From the above random numbers you now want to calculate the mean and test if that mean is higher than 50. How would you do that?"
   ]
  },
  {
   "cell_type": "code",
   "execution_count": 7,
   "id": "6d6441bc",
   "metadata": {
    "slideshow": {
     "slide_type": "fragment"
    },
    "solution2": "hidden",
    "solution2_first": true
   },
   "outputs": [],
   "source": [
    "# Please write your solution here"
   ]
  },
  {
   "cell_type": "markdown",
   "id": "ce10f890",
   "metadata": {
    "slideshow": {
     "slide_type": "subslide"
    }
   },
   "source": [
    "###### Exercise 1.5\n",
    "\n",
    "Define a variable `rand_num_sub_4` that contains the `random number` from the `fourth subject` of your experiment and `print` the statement `'Subject number four picked X as random number'`, where `X` shoudle be replaced using string formatting. Assign the variable using it's index. \n",
    "\n",
    "Remember: Where do you start to index in Python?"
   ]
  },
  {
   "cell_type": "code",
   "execution_count": 9,
   "id": "50198938",
   "metadata": {
    "slideshow": {
     "slide_type": "fragment"
    },
    "solution2": "hidden",
    "solution2_first": true
   },
   "outputs": [],
   "source": [
    "# Please write your solution here"
   ]
  },
  {
   "cell_type": "markdown",
   "id": "0cf9669b",
   "metadata": {
    "slideshow": {
     "slide_type": "subslide"
    }
   },
   "source": [
    "###### Exercise 1.6\n",
    "\n",
    "Oh no you made several mistakes! `Update` your `list` to correct the mistakes.\n",
    "- The `random number` of the `fourth participant` wasn't actually `77` but `76`. \n",
    "- You forgot to keep track of another participant and actually recorded `11 subjects`. You forgot the `8th` subject with the number `33`. Please add them to your list.\n",
    "- You actually don't want people to choose the number `50`. Please `remove` this `value` from your `list`!"
   ]
  },
  {
   "cell_type": "code",
   "execution_count": 11,
   "id": "f4458ed4",
   "metadata": {
    "slideshow": {
     "slide_type": "fragment"
    },
    "solution2": "hidden",
    "solution2_first": true
   },
   "outputs": [],
   "source": [
    "# Please write your solution here"
   ]
  },
  {
   "cell_type": "markdown",
   "id": "4064d289",
   "metadata": {
    "slideshow": {
     "slide_type": "subslide"
    }
   },
   "source": [
    "###### Exercise 1.7\n",
    "\n",
    "Instead of only declaring a `list containing all the random numbers`, you now want to also `assign` a `personal ID` to each `subject` that you asked. In our case this would simply be `Sub_1` to `Sub_10` for the `first`, `second`, etc. `subject`, respectively. \n",
    "\n",
    "Define a `dictionary` to store this information. Then `print` all the `keys` and also `redefine` the `rand_num_sub_4` variable from before, using your new `dictionary`."
   ]
  },
  {
   "cell_type": "code",
   "execution_count": 13,
   "id": "89260ef8",
   "metadata": {
    "slideshow": {
     "slide_type": "fragment"
    },
    "solution2": "hidden",
    "solution2_first": true
   },
   "outputs": [],
   "source": [
    "# Please write your solution here"
   ]
  },
  {
   "cell_type": "markdown",
   "id": "ab085ee5",
   "metadata": {},
   "source": [
    "###### Exercise 1.8\n",
    "\n",
    "We'll assign the inscription on the ring from lord of the rings as a `string` to a variable called `lord_of_the_rings`. As a reminder, the inscription is: \n",
    "\n",
    "`One Ring to rule them all, One Ring to find them, One Ring to bring them all, and in the darkness bind them.`\n",
    "\n",
    "We also want to create our own fantasy saga, but we are little copy cats. Therefore, we want to define a new statement for the `lord of the stones`, and only `replace` the word `ring` with `stone` in our sentence. How would you do that?"
   ]
  },
  {
   "cell_type": "code",
   "execution_count": 1,
   "id": "ac20ee2f",
   "metadata": {
    "slideshow": {
     "slide_type": "fragment"
    },
    "solution2": "hidden",
    "solution2_first": true
   },
   "outputs": [],
   "source": [
    "# Please write your solution here"
   ]
  },
  {
   "cell_type": "markdown",
   "id": "5fa267a3",
   "metadata": {
    "slideshow": {
     "slide_type": "subslide"
    }
   },
   "source": [
    "###### Exercise 1.9\n",
    "\n",
    "How `long` is this statement now `compared` to before? \n",
    "Further, we want to know what the `indices` `40 to 45` were in the `original inscription` and what they would be in our `new sentence`?"
   ]
  },
  {
   "cell_type": "code",
   "execution_count": 18,
   "id": "4978d9f2",
   "metadata": {
    "slideshow": {
     "slide_type": "fragment"
    },
    "solution2": "hidden",
    "solution2_first": true
   },
   "outputs": [],
   "source": [
    "# Please write your solution here"
   ]
  },
  {
   "cell_type": "markdown",
   "id": "54563f98",
   "metadata": {
    "slideshow": {
     "slide_type": "subslide"
    }
   },
   "source": [
    "###### Exercise 1.10\n",
    "\n",
    "You can `split` a `string` into a `list` of `strings` using `list.split(' ')`. This function `splits` the string given the parameter `' '` (i.e the whitespaces) and generates a `list`. Assign the `split list` to a `new variable`and `print` it.\n",
    "\n",
    "`Split` the lord of the stones `string` into a `list of words`, `sort` this new `list`, \n",
    "\n",
    "add it to a new `variable` and `print` the `sorted list`. Further `print` the `10th element` of your sorted `list`. "
   ]
  },
  {
   "cell_type": "code",
   "execution_count": 20,
   "id": "8ad63660",
   "metadata": {
    "slideshow": {
     "slide_type": "fragment"
    },
    "solution2": "hidden",
    "solution2_first": true
   },
   "outputs": [],
   "source": [
    "# Please write your solution here"
   ]
  },
  {
   "cell_type": "markdown",
   "id": "49c31ca4",
   "metadata": {
    "slideshow": {
     "slide_type": "subslide"
    }
   },
   "source": [
    "**Thanks for taking the time to go through this recap!**\n",
    "\n",
    "![image.png](https://media2.giphy.com/media/l1TqF9rA0bcKiRSQsT/giphy.gif?cid=790b7611959a95103f8a4a983b25e8a44cb2bd2aebe9145b&rid=giphy.gif&ct=g)\n",
    "\n",
    "<center><a href=\"https://giphy.com/gifs/CBSAllAccess-cbs-beverly-hills-90210-episode-107-l1TqF9rA0bcKiRSQsT\">via GIPHY</a></center>\n",
    "\n",
    "If you could solve/answer all questions, you should be well prepared for this session. Otherwise, maybe check out the earlier lessons again or work-out your googling skills!"
   ]
  },
  {
   "cell_type": "markdown",
   "id": "b5b34bf6",
   "metadata": {
    "slideshow": {
     "slide_type": "slide"
    }
   },
   "source": [
    "# Indentation & Control Flow"
   ]
  },
  {
   "cell_type": "markdown",
   "id": "afe55d76",
   "metadata": {
    "slideshow": {
     "slide_type": "slide"
    }
   },
   "source": [
    "## Objectives 📍\n",
    "<br>\n",
    "\n",
    "- learn about indentation (some form of code structuring)\n",
    "- control how our code is executed \n",
    "    - Conditionals (`if` - `else` statements)\n",
    "    - Iteration (e.g., `for`-loops, `while` statements…)"
   ]
  },
  {
   "cell_type": "markdown",
   "id": "ef14af8b",
   "metadata": {
    "slideshow": {
     "slide_type": "slide"
    }
   },
   "source": [
    "## Indentation\n",
    "\n",
    "`Python` uses `whitespaces` to define `code blocks`. \n",
    "A single `whitespaces` at the beginning of a line is consider a simple `indent`. A `code block` that is `indented` with the `same number` of leading `whitespaces` or `tabs` should be run together. \n",
    "\n",
    "**In other words: the `indentation` is part of the `syntax` in `python` and one of the major distinctions regarding other programming languages like, e.g. `Matlab`.**\n",
    "\n",
    "Usually in `Python` we use `four whitespaces` for `indentation` of `code blocks` (simply hitting the `tab`key does the trick). This is defined in the [`PEP8 Style Guide` under whitespace \"ethics\"](https://peps.python.org/pep-0008/#whitespace-in-expressions-and-statements).\n",
    "\n",
    "Let's see what that means:"
   ]
  },
  {
   "cell_type": "code",
   "execution_count": 3,
   "id": "d9ed2752",
   "metadata": {
    "slideshow": {
     "slide_type": "subslide"
    }
   },
   "outputs": [],
   "source": [
    "days_til_christmas = 51\n",
    "current_weekday = 'Saturday'"
   ]
  },
  {
   "cell_type": "markdown",
   "id": "ad16a0e8",
   "metadata": {
    "slideshow": {
     "slide_type": "fragment"
    }
   },
   "source": [
    "Each set of these statements is called a block, meaning that the lines/`variable` assignments will be run together. We will see examples of how blocks are important later on. \n",
    "\n",
    "What happens when we introduce a \"wrong\" `indentation`?"
   ]
  },
  {
   "cell_type": "code",
   "execution_count": 2,
   "id": "e2fee7ea",
   "metadata": {
    "slideshow": {
     "slide_type": "fragment"
    }
   },
   "outputs": [
    {
     "ename": "IndentationError",
     "evalue": "unexpected indent (1779195380.py, line 2)",
     "output_type": "error",
     "traceback": [
      "\u001b[0;36m  Cell \u001b[0;32mIn [2], line 2\u001b[0;36m\u001b[0m\n\u001b[0;31m    current_day = 'Saturday'\u001b[0m\n\u001b[0m    ^\u001b[0m\n\u001b[0;31mIndentationError\u001b[0m\u001b[0;31m:\u001b[0m unexpected indent\n"
     ]
    }
   ],
   "source": [
    "days_til_christmas = 51\n",
    "  current_day = 'Saturday'"
   ]
  },
  {
   "cell_type": "code",
   "execution_count": 6,
   "id": "528d5981",
   "metadata": {},
   "outputs": [
    {
     "ename": "IndentationError",
     "evalue": "unexpected indent (131060323.py, line 2)",
     "output_type": "error",
     "traceback": [
      "\u001b[0;36m  Cell \u001b[0;32mIn [6], line 2\u001b[0;36m\u001b[0m\n\u001b[0;31m    current_day = 'Saturday'\u001b[0m\n\u001b[0m    ^\u001b[0m\n\u001b[0;31mIndentationError\u001b[0m\u001b[0;31m:\u001b[0m unexpected indent\n"
     ]
    }
   ],
   "source": [
    "    days_til_christmas = 51\n",
    "        current_day = 'Saturday'"
   ]
  },
  {
   "cell_type": "markdown",
   "id": "1f0450c8",
   "metadata": {
    "slideshow": {
     "slide_type": "fragment"
    }
   },
   "source": [
    "One thing you should remember is that a wrong `indentation` raises an `IndentationError`. These can be a lot more impactful than the errors we've encountered before, so we won't adress how to use `try - except` to catch these here."
   ]
  },
  {
   "cell_type": "markdown",
   "id": "3de643df",
   "metadata": {
    "slideshow": {
     "slide_type": "slide"
    }
   },
   "source": [
    "## Control Flow & structures\n",
    "\n",
    "Programming languages (i.e. `python`) allows us to `control` how code is `executed` using\n",
    "* Conditionals (`if` - `else` statements statements)\n",
    "* Iteration (e.g., `for`-loops, `while` statements…)\n",
    "\n",
    "\n",
    "\n",
    "[Read more on Controlflows here](https://docs.python.org/3/tutorial/controlflow.html)"
   ]
  },
  {
   "cell_type": "markdown",
   "id": "73dc40d7",
   "metadata": {
    "slideshow": {
     "slide_type": "subslide"
    }
   },
   "source": [
    "## Conditional statements: if, elif, else\n",
    "\n",
    "The `python syntax` for `conditional` execution of `code` uses the keywords `if`, `elif` (else if), `else`:\n",
    "\n",
    "<br>\n",
    "<br>\n",
    "\n",
    "<center><img src=\"https://www.learnbyexample.org/wp-content/uploads/python/Python-elif-Statement-Syntax.png\" width=600></center>\n",
    "<br>\n",
    "\n",
    "<center><a href=\"https://www.learnbyexample.org/wp-content/uploads/python/Python-elif-Statement-Syntax.png\">learnbyexample: Python-elif-Statement-Syntax</a></center>\n"
   ]
  },
  {
   "cell_type": "markdown",
   "id": "2d842e17",
   "metadata": {
    "slideshow": {
     "slide_type": "subslide"
    }
   },
   "source": [
    "<center><img src=\"https://www.alphacodingskills.com/python/img/python-if-elif-else.png\" width=600></center>\n",
    "\n",
    "<center><a href=\"https://www.alphacodingskills.com/python/img/python-if-elif-else.png\">alphacodingskills: Python-if-elif-else</a></center>\n"
   ]
  },
  {
   "cell_type": "markdown",
   "id": "e0a44456",
   "metadata": {},
   "source": [
    "To quickly demonstrate, we'll define two `False` statements and see how `if`, `elif` and `else` deal with `boolean`s:"
   ]
  },
  {
   "cell_type": "code",
   "execution_count": 30,
   "id": "cf9fbf33",
   "metadata": {
    "slideshow": {
     "slide_type": "slide"
    }
   },
   "outputs": [
    {
     "name": "stdout",
     "output_type": "stream",
     "text": [
      "statement1 and statement2 are False\n"
     ]
    }
   ],
   "source": [
    "statement1 = False\n",
    "statement2 = False\n",
    "\n",
    "if statement1:\n",
    "    print(\"statement1 is True\")\n",
    "    \n",
    "elif statement2:\n",
    "    print(\"statement2 is True\")\n",
    "    \n",
    "else:\n",
    "    print(\"statement1 and statement2 are False\")"
   ]
  },
  {
   "cell_type": "markdown",
   "id": "40295f0b",
   "metadata": {},
   "source": [
    "Note that we're actually asking `if` is `True`. The `True` `boolean` is silent in our `conditionals`.\n",
    "\n",
    "GIF?"
   ]
  },
  {
   "cell_type": "markdown",
   "id": "76c7adc6",
   "metadata": {
    "slideshow": {
     "slide_type": "slide"
    }
   },
   "source": [
    "We again encounter that: \n",
    "\n",
    "**Program blocks are defined by their indentation level.** \n",
    "\n",
    "In Python, the extent of a code block is defined by the indentation `level` (usually a `tab` or `four white spaces`). This means that we have to be careful to indent our code correctly, or else we will get [syntax errors](https://docs.python.org/3/tutorial/errors.html#syntax-errors), as demonstrated above. \n",
    "\n",
    "</br>\n",
    "\n",
    "\n",
    "<center><img src=\"../static/syntax_error.png\" width=\"700px\" style=\"margin-bottom: 15px;\"></center>\n",
    "\n",
    "<center><a href=\"https://docs.python.org/3/tutorial/errors.html#syntax-errors](https://docs.python.org/3/tutorial/errors.html#syntax-errors\">https://docs.python.org/3/tutorial/errors.html#syntax-errors](https://docs.python.org/3/tutorial/errors.html#syntax-errors</a></center>\n",
    "\n",
    "\n",
    "**Examples:**"
   ]
  },
  {
   "cell_type": "code",
   "execution_count": 17,
   "id": "2fccf858",
   "metadata": {
    "slideshow": {
     "slide_type": "fragment"
    }
   },
   "outputs": [
    {
     "name": "stdout",
     "output_type": "stream",
     "text": [
      "both statement1 and statement2 are True\n"
     ]
    }
   ],
   "source": [
    "# Good indentation\n",
    "statement1 = statement2 = True\n",
    "\n",
    "if statement1:\n",
    "    if statement2:\n",
    "        print(\"both statement1 and statement2 are True\")"
   ]
  },
  {
   "cell_type": "code",
   "execution_count": 7,
   "id": "ed20f18a",
   "metadata": {
    "slideshow": {
     "slide_type": "fragment"
    }
   },
   "outputs": [
    {
     "ename": "IndentationError",
     "evalue": "expected an indented block (793041207.py, line 4)",
     "output_type": "error",
     "traceback": [
      "\u001b[0;36m  Cell \u001b[0;32mIn [7], line 4\u001b[0;36m\u001b[0m\n\u001b[0;31m    print(\"both statement1 and statement2 are True\")  # this line is not properly indented\u001b[0m\n\u001b[0m    ^\u001b[0m\n\u001b[0;31mIndentationError\u001b[0m\u001b[0;31m:\u001b[0m expected an indented block\n"
     ]
    }
   ],
   "source": [
    "# Bad indentation! This would lead to an error\n",
    "if statement1:\n",
    "    if statement2:\n",
    "    print(\"both statement1 and statement2 are True\")  # this line is not properly indented"
   ]
  },
  {
   "cell_type": "markdown",
   "id": "a1365eff",
   "metadata": {},
   "source": [
    "Now what does this error tell us?"
   ]
  },
  {
   "cell_type": "code",
   "execution_count": 10,
   "id": "a5039693",
   "metadata": {
    "slideshow": {
     "slide_type": "subslide"
    }
   },
   "outputs": [
    {
     "name": "stdout",
     "output_type": "stream",
     "text": [
      "printed if statement1 is False\n",
      "still inside the elif block\n"
     ]
    }
   ],
   "source": [
    "statement1 = False \n",
    "\n",
    "if statement1:\n",
    "    print(\"printed if statement1 is True\")\n",
    "    \n",
    "    print(\"still inside the if block\")"
   ]
  },
  {
   "cell_type": "markdown",
   "id": "84e582ab",
   "metadata": {},
   "source": [
    "Oh no! We're is our output?"
   ]
  },
  {
   "cell_type": "markdown",
   "id": "7b3ef9ba",
   "metadata": {},
   "source": [
    "Well, let's try again. This time let's be explicit in what we're trying to `conditon` on by using the `is` `keyword` (remember those?)"
   ]
  },
  {
   "cell_type": "code",
   "execution_count": 12,
   "id": "0e070dba",
   "metadata": {},
   "outputs": [
    {
     "name": "stdout",
     "output_type": "stream",
     "text": [
      "printed if statement1 is False\n",
      "still inside the elif block\n"
     ]
    }
   ],
   "source": [
    "statement1 = False # still False\n",
    "\n",
    "if statement1:\n",
    "    print(\"printed if statement1 is True\")\n",
    "    \n",
    "    print(\"still inside the if block\")\n",
    "    \n",
    "elif statement1 is False:\n",
    "    print(\"printed if statement1 is False\")\n",
    "    \n",
    "    print(\"still inside the elif block\")"
   ]
  },
  {
   "cell_type": "markdown",
   "id": "66058222",
   "metadata": {},
   "source": [
    "`If` `conditionals` care about `indentation`. What happens if we're not on the same `indentation level`?"
   ]
  },
  {
   "cell_type": "code",
   "execution_count": 15,
   "id": "6d904dd4",
   "metadata": {
    "slideshow": {
     "slide_type": "fragment"
    }
   },
   "outputs": [
    {
     "name": "stdout",
     "output_type": "stream",
     "text": [
      "printed if statement1 is True\n",
      "now outside the if block\n"
     ]
    }
   ],
   "source": [
    "statement1 = True\n",
    "statement1 = not False # so True\n",
    "\n",
    "\n",
    "if statement1:\n",
    "    print(\"printed if statement1 is True\")\n",
    "    \n",
    "print(\"now outside the if block\")"
   ]
  },
  {
   "cell_type": "markdown",
   "id": "3088cb61",
   "metadata": {},
   "source": [
    "Using the `or` & `and` logic from the last session, we can even combine statements:"
   ]
  },
  {
   "cell_type": "code",
   "execution_count": 23,
   "id": "8f2165ec",
   "metadata": {
    "slideshow": {
     "slide_type": "fragment"
    }
   },
   "outputs": [
    {
     "name": "stdout",
     "output_type": "stream",
     "text": [
      "Statement2 was: True right?\n",
      "So:\n",
      "printed if statement1 and statement2 are True\n"
     ]
    }
   ],
   "source": [
    "print(\"Statement2 was:\", statement2, \"right?\")\n",
    "print('So:')\n",
    "\n",
    "if statement1 and statement2:\n",
    "    print(\"printed if statement1 and statement2 are True\")\n",
    "elif statement1 or statement2:\n",
    "    print(\"printed if either statement1 or statement2 is True\")\n",
    "else:\n",
    "    print(\"printed if no statement is True\")"
   ]
  },
  {
   "cell_type": "markdown",
   "id": "5899daea",
   "metadata": {
    "slideshow": {
     "slide_type": "slide"
    }
   },
   "source": [
    "##### Exercise 2.1\n",
    "\n",
    "\n",
    "You want to go to the cinema, but you first need to check whether you have enough money. \n",
    "First define a `variable` indicating the amount of money in your wallet `money_in_wallet` as `6 EUR` and the ticket price for the cinema `ticket_price` as `10 EUR`. \n",
    "\n",
    "Indicate with a `print` statement `IF` you can afford to go to the cinema! Use both `if` and `else` `conditionals` to print wether you're going out or staying home."
   ]
  },
  {
   "cell_type": "code",
   "execution_count": 38,
   "id": "a5a96f45",
   "metadata": {
    "solution2": "hidden",
    "solution2_first": true
   },
   "outputs": [],
   "source": [
    "### Write your solution here ###\n"
   ]
  },
  {
   "cell_type": "markdown",
   "id": "041756fb",
   "metadata": {
    "slideshow": {
     "slide_type": "subslide"
    }
   },
   "source": [
    "#### Exercise 2.2\n",
    "\n",
    "\n",
    "Different films cost different amounts of money. Use `if` statements to tests `which films` you can afford and `print` those. The films cost:\n",
    "\n",
    "- James Bond: 15 EUR\n",
    "- Spider Man - No Way Home: 11 EUR\n",
    "- Dune: 6 EUR\n",
    "- Ghostbusters: 5 EUR\n",
    "\n",
    "Note: as always in coding, there are several ways to get the right solution. "
   ]
  },
  {
   "cell_type": "code",
   "execution_count": 40,
   "id": "eb94ba2b",
   "metadata": {
    "solution2": "hidden",
    "solution2_first": true
   },
   "outputs": [],
   "source": [
    "### Write your solution here ###\n"
   ]
  },
  {
   "cell_type": "markdown",
   "id": "d6f79a62",
   "metadata": {
    "slideshow": {
     "slide_type": "subslide"
    }
   },
   "source": [
    "#### Exercise 2.3\n",
    "\n",
    "\n",
    "It's your lucky day! You happen to find exactly `34 EUR` right in front of your house. You want to celebrate this by inviting as many of your `5 friends` as possible to the cinema. \n",
    "\n",
    "How many friends can you invite, while also paying for yourself? First `update` your `money in your wallet`, `test` this using `if` statements and `print` the result. "
   ]
  },
  {
   "cell_type": "code",
   "execution_count": 42,
   "id": "92f56d3d",
   "metadata": {
    "solution2": "hidden",
    "solution2_first": true
   },
   "outputs": [],
   "source": [
    "### Write your solution here ###\n"
   ]
  },
  {
   "cell_type": "markdown",
   "id": "ac0447bb",
   "metadata": {
    "slideshow": {
     "slide_type": "subslide"
    }
   },
   "source": [
    "#### Exercise 2.4 - Last one, I promise!\n",
    "\n",
    "\n",
    "This year you want to treat your dog with a christmas present but obviously only if it was a `good boy`. Depending on the `money in your wallet`, you can `either` buy a `new toy` for `10 EUR` or `instead` go on a `nice long walk` `if` you don't have any money. \n",
    "\n",
    "Write a `nested` `if` statement to test which present you can buy if your dog was a `good boy`. Your current endowment is `11 EUR`.\n",
    "\n",
    "</br>\n",
    "\n",
    "<center><img src=\"https://i.imgur.com/yb1CFEh.png\"></center>"
   ]
  },
  {
   "cell_type": "code",
   "execution_count": 44,
   "id": "492c92a2",
   "metadata": {
    "solution2": "hidden",
    "solution2_first": true
   },
   "outputs": [],
   "source": [
    "### Write your solution here ###\n"
   ]
  },
  {
   "cell_type": "markdown",
   "id": "65e83e24",
   "metadata": {
    "slideshow": {
     "slide_type": "slide"
    }
   },
   "source": [
    "\n",
    "These many `if` statements were very tedious. Can we not do this more efficiently?\n",
    "\n",
    "</br>\n",
    "\n",
    "<center><img src=\"https://i.pinimg.com/736x/f1/be/86/f1be8629d5673e3261726e5011c46e5a.jpg\"></center>\n",
    "\n"
   ]
  },
  {
   "cell_type": "markdown",
   "id": "9a431de8",
   "metadata": {
    "slideshow": {
     "slide_type": "fragment"
    }
   },
   "source": [
    "Wait no more. We have a solution (at least for some situations)!"
   ]
  },
  {
   "cell_type": "markdown",
   "id": "1a48ffe9",
   "metadata": {
    "slideshow": {
     "slide_type": "slide"
    }
   },
   "source": [
    "## Loops\n",
    "\n",
    "In `python`, loops can be programmed in a number of different ways. The most common is the `for` loop, which is used together with `iterable objects`, such as `list`s. The `basic syntax` is:\n",
    "\n",
    "</br>\n",
    "\n",
    "<center><img src=\"https://www.learnbyexample.org/wp-content/uploads/python/Python-for-Loop-Syntax.png\" width=600></center>\n",
    "<center><small><small><small>https://www.learnbyexample.org/wp-content/uploads/python/Python-for-Loop-Syntax.png</small></small></small></center>"
   ]
  },
  {
   "cell_type": "markdown",
   "id": "1d91e6d2",
   "metadata": {},
   "source": [
    "\n",
    "<center><img src=\"https://media.tenor.com/H_4b2t0zoaAAAAAd/python-code.gif\" width=\"150\"></center>\n",
    "\n",
    "<center><a href=\"https://media.tenor.com/H_4b2t0zoaAAAAAd/python-code.gif\">via GIPHY</a></center>"
   ]
  },
  {
   "cell_type": "code",
   "execution_count": 30,
   "id": "8343c9ff",
   "metadata": {
    "slideshow": {
     "slide_type": "subslide"
    }
   },
   "outputs": [
    {
     "name": "stdout",
     "output_type": "stream",
     "text": [
      "1\n",
      "2\n",
      "3\n"
     ]
    }
   ],
   "source": [
    "for i in [1,2,3]:\n",
    "    print(i)"
   ]
  },
  {
   "cell_type": "markdown",
   "id": "d665531e",
   "metadata": {},
   "source": [
    "But why that `i`? Honestly, that is mostly a mixture of laziness and force of habbit. Technically you could give your iterable any name that is not an python `keyword` or `function name` and you should be as specific as possible, whenever possible for everyone's sake.\n",
    "\n",
    "</br>\n",
    "    \n",
    "<center><img src=\"https://preview.redd.it/havya9izb8l61.png?width=640&crop=smart&auto=webp&s=7d3dc840448582d4730d6785bc83505a42ba73dd\" width=\"250\"></center>\n",
    "\n",
    "<center><a href=\"https://www.reddit.com/r/ProgrammerHumor/comments/lyeiky/i_the_constant_variable_name_for_first_loop/\">via Reddit</a></center>\n",
    "\n",
    "So let's try that again:"
   ]
  },
  {
   "cell_type": "code",
   "execution_count": 31,
   "id": "caf0825e",
   "metadata": {},
   "outputs": [
    {
     "name": "stdout",
     "output_type": "stream",
     "text": [
      "1\n",
      "2\n",
      "3\n"
     ]
    }
   ],
   "source": [
    "for num_in_list in [1,2,3]:\n",
    "    print(num_in_list)"
   ]
  },
  {
   "cell_type": "markdown",
   "id": "fea856ad",
   "metadata": {},
   "source": [
    "Remember that our `iterable_variable` will be continously updated. So if we call `num_in_list` again, we'll get the last assigned value, i.e. the last item in our `list`."
   ]
  },
  {
   "cell_type": "code",
   "execution_count": 32,
   "id": "bd98d7bb",
   "metadata": {},
   "outputs": [
    {
     "data": {
      "text/plain": [
       "3"
      ]
     },
     "execution_count": 32,
     "metadata": {},
     "output_type": "execute_result"
    }
   ],
   "source": [
    "num_in_list"
   ]
  },
  {
   "cell_type": "markdown",
   "id": "2ac983bd",
   "metadata": {
    "slideshow": {
     "slide_type": "subslide"
    }
   },
   "source": [
    "So our `for` loop `iterates` over the `elements` of the supplied `list` and `executes` the contained `code block` once for each `element`. Any kind of list can be used in the `for` loop. \n",
    "\n",
    "It's common to employ the `range()` function, which we've met in the previous session, to define how many times a loop should repeat.\n",
    "For example:"
   ]
  },
  {
   "cell_type": "code",
   "execution_count": 33,
   "id": "be6d2217",
   "metadata": {},
   "outputs": [
    {
     "name": "stdout",
     "output_type": "stream",
     "text": [
      "0\n",
      "1\n",
      "2\n",
      "3\n"
     ]
    }
   ],
   "source": [
    "for i in range(4): # by default range start at 0\n",
    "    print(i)"
   ]
  },
  {
   "cell_type": "code",
   "execution_count": 50,
   "id": "2768ba74",
   "metadata": {},
   "outputs": [
    {
     "name": "stdout",
     "output_type": "stream",
     "text": [
      "0\n",
      "1\n",
      "2\n",
      "3\n"
     ]
    }
   ],
   "source": [
    "#  to demonstrate you could also create a list using range by\n",
    "list_range = list(range(4))\n",
    "list_range\n",
    "\n",
    "# results in the same as before\n",
    "for i in list_range:\n",
    "    print(i)"
   ]
  },
  {
   "cell_type": "code",
   "execution_count": 37,
   "id": "69cab2cb",
   "metadata": {},
   "outputs": [
    {
     "name": "stdout",
     "output_type": "stream",
     "text": [
      "3\n"
     ]
    }
   ],
   "source": [
    "print(i)"
   ]
  },
  {
   "cell_type": "markdown",
   "id": "8989c9e9",
   "metadata": {
    "slideshow": {
     "slide_type": "subslide"
    }
   },
   "source": [
    "Note: `range(4)` does not include `4`! Try to remember the aspects of `indexing` and `slicing` we addressed during the session on `string`s and `list`s. "
   ]
  },
  {
   "cell_type": "code",
   "execution_count": 48,
   "id": "b244cc47",
   "metadata": {},
   "outputs": [
    {
     "name": "stdout",
     "output_type": "stream",
     "text": [
      "-3\n",
      "-2\n",
      "-1\n",
      "0\n",
      "1\n",
      "2\n"
     ]
    }
   ],
   "source": [
    "for x in range(-3,3):\n",
    "    print(x)"
   ]
  },
  {
   "cell_type": "markdown",
   "id": "ca5282f1",
   "metadata": {},
   "source": [
    "Again, you can use any kind of `list`, so let's try a `list` of `strings`:"
   ]
  },
  {
   "cell_type": "code",
   "execution_count": 39,
   "id": "296827e8",
   "metadata": {
    "slideshow": {
     "slide_type": "subslide"
    }
   },
   "outputs": [
    {
     "name": "stdout",
     "output_type": "stream",
     "text": [
      "scientific\n",
      "computing\n",
      "with\n",
      "python\n"
     ]
    }
   ],
   "source": [
    "for word in [\"scientific\", \"computing\", \"with\", \"python\"]:\n",
    "    print(word)"
   ]
  },
  {
   "cell_type": "markdown",
   "id": "0cf5e27b",
   "metadata": {},
   "source": [
    "and the variable `word` again contains the last `item` of the `list` we used, i.e. the `variable` assumes the value of the last loop `iteration`"
   ]
  },
  {
   "cell_type": "code",
   "execution_count": 40,
   "id": "121245e8",
   "metadata": {},
   "outputs": [
    {
     "data": {
      "text/plain": [
       "'python'"
      ]
     },
     "execution_count": 40,
     "metadata": {},
     "output_type": "execute_result"
    }
   ],
   "source": [
    "word"
   ]
  },
  {
   "cell_type": "markdown",
   "id": "28253638",
   "metadata": {
    "slideshow": {
     "slide_type": "subslide"
    }
   },
   "source": [
    "To iterate over `key-value pairs` of a `dictionary` we need to change up our `syntax` a bit. So we include `2 variables` when defining our for loop, like so:"
   ]
  },
  {
   "cell_type": "code",
   "execution_count": 43,
   "id": "e445907e",
   "metadata": {},
   "outputs": [
    {
     "name": "stdout",
     "output_type": "stream",
     "text": [
      "{'parameter1': 'A', 'parameter2': 'B', 'parameter3': 'C', 'parameter4': 'D'}\n"
     ]
    }
   ],
   "source": [
    "# define a dictionary\n",
    "params = {\n",
    "    'parameter1': 'A',\n",
    "    'parameter2': 'B',\n",
    "    'parameter3': 'C',\n",
    "    'parameter4': 'D'\n",
    "}\n",
    "print(params)"
   ]
  },
  {
   "cell_type": "code",
   "execution_count": 46,
   "id": "6e1318ab",
   "metadata": {},
   "outputs": [
    {
     "name": "stdout",
     "output_type": "stream",
     "text": [
      "parameter1 = A\n",
      "parameter2 = B\n",
      "parameter3 = C\n",
      "parameter4 = D\n"
     ]
    }
   ],
   "source": [
    "# call the for loop with a variable provided for keys and values\n",
    "for key, value in params.items():\n",
    "    print(key + \" = \" + str(value))"
   ]
  },
  {
   "cell_type": "code",
   "execution_count": 49,
   "id": "6ba26d0d",
   "metadata": {},
   "outputs": [
    {
     "name": "stdout",
     "output_type": "stream",
     "text": [
      "parameter1 = A\n",
      "parameter2 = B\n",
      "parameter3 = C\n",
      "parameter4 = D\n"
     ]
    }
   ],
   "source": [
    "# or what you'll usually see\n",
    "for i, j in params.items():\n",
    "    print(i + \" = \" + str(j))"
   ]
  },
  {
   "cell_type": "markdown",
   "id": "825d38a9",
   "metadata": {
    "slideshow": {
     "slide_type": "subslide"
    }
   },
   "source": [
    "Sometimes it is useful to have access to the indices of the values when iterating over a `list`. We can use the `enumerate` function for this:"
   ]
  },
  {
   "cell_type": "code",
   "execution_count": 48,
   "id": "4210e87b",
   "metadata": {},
   "outputs": [
    {
     "name": "stdout",
     "output_type": "stream",
     "text": [
      "loop number = 0\n",
      "-3\n",
      "loop number = 1\n",
      "-2\n",
      "loop number = 2\n",
      "-1\n",
      "loop number = 3\n",
      "0\n",
      "loop number = 4\n",
      "1\n",
      "loop number = 5\n",
      "2\n"
     ]
    }
   ],
   "source": [
    "# note that the convention is to call our index varivale `idx`\n",
    "for idx, x in enumerate(range(-3,3)):\n",
    "    print('loop number = ' + str(idx))\n",
    "    print(x)"
   ]
  },
  {
   "cell_type": "markdown",
   "id": "bcbe36d7",
   "metadata": {
    "slideshow": {
     "slide_type": "subslide"
    }
   },
   "source": [
    "### `break`, `continue` and `pass`\n",
    "\n",
    "But at times it is necessary to further control how a loop behaves. We'll therefore introduce a few `control statements`\n",
    "\n",
    "To control the flow of a certain loop we'll use `break`, `continue` and `pass`.\n",
    "\n",
    "</br>\n",
    "\n",
    "<center><img src=\"https://raw.githubusercontent.com/PeerHerholz/Python_for_Psychologists_Winter2021/master/lecture/static/python_break_continue_pass.png\" width=900></center>\n"
   ]
  },
  {
   "cell_type": "markdown",
   "id": "90d78734",
   "metadata": {},
   "source": [
    "To illustrate this let's first create another list"
   ]
  },
  {
   "cell_type": "code",
   "execution_count": 16,
   "id": "30606fe6",
   "metadata": {},
   "outputs": [
    {
     "name": "stdout",
     "output_type": "stream",
     "text": [
      "[0, 1, 2, 3, 4, 5, 6, 7, 8, 9]\n"
     ]
    }
   ],
   "source": [
    "rangelist = list(range(10))\n",
    "print(list(rangelist))"
   ]
  },
  {
   "cell_type": "markdown",
   "id": "45fb39dd",
   "metadata": {},
   "source": [
    "Now if we want our loop to stop running once a condition is met we need our old friends the `if` and `else` `conditional` statements. We'll evaluate if a certain number is contained in our list and `break` the loop once a [4, 5, 7, 9] is found."
   ]
  },
  {
   "cell_type": "code",
   "execution_count": 53,
   "id": "59c5b754",
   "metadata": {
    "slideshow": {
     "slide_type": "subslide"
    }
   },
   "outputs": [
    {
     "name": "stdout",
     "output_type": "stream",
     "text": [
      "0\n",
      "continued\n",
      "1\n",
      "continued\n",
      "2\n",
      "continued\n",
      "3\n",
      "continued\n",
      "4\n",
      "number 4 encountered. Loop breaks here!\n"
     ]
    }
   ],
   "source": [
    "for number in rangelist:\n",
    "    # Check if number is one of\n",
    "    # the numbers in the list.\n",
    "    if number in [4, 5, 7, 9]:\n",
    "        # \"Break\" terminates a for loop without\n",
    "        # executing the \"else\" clause.\n",
    "        print(number)\n",
    "        print('number ' + str(number) + ' encountered. Loop breaks here!')\n",
    "        break\n",
    "    else:\n",
    "        # \"Continue\" starts the next iteration\n",
    "        # of the loop. It's rather useless here,\n",
    "        # as it's the last statement of the loop.\n",
    "        print(number)\n",
    "        print('continued')\n",
    "        continue\n",
    "else:\n",
    "    # The \"else\" clause is optional and is\n",
    "    # executed only if the loop didn't \"break\".\n",
    "    pass # Do nothing"
   ]
  },
  {
   "cell_type": "markdown",
   "id": "5aae10b8",
   "metadata": {},
   "source": [
    "Let's see what `continue` and `pass` can actually do. `Continue` implies that we don't want our for loop to end, but rather to skip the rest of `code block` the for the current iteration. So:"
   ]
  },
  {
   "cell_type": "code",
   "execution_count": 3,
   "id": "a6488b89",
   "metadata": {},
   "outputs": [
    {
     "name": "stdout",
     "output_type": "stream",
     "text": [
      "else cond = 0\n",
      "else cond = 1\n",
      "else cond = 2\n",
      "else cond = 3\n",
      "number 4 encountered. We're supposed to break, right?\n",
      "oh no the loop can't hear us it has a continue statment in it!\n",
      "number 5 encountered. We're supposed to break, right?\n",
      "oh no the loop can't hear us it has a continue statment in it!\n",
      "number 6 encountered. We're supposed to break, right?\n",
      "oh no the loop can't hear us it has a continue statment in it!\n",
      "else cond = 7\n",
      "8\n",
      "break? break!\n"
     ]
    }
   ],
   "source": [
    "for number in rangelist:\n",
    "    if number in [4, 5, 6]:\n",
    "        print('number ' + str(number) + \" encountered. We're supposed to break, right?\")\n",
    "        print(\"oh no the loop can't hear us it has a continue statment in it!\")\n",
    "        continue  # stop here, continue with next loop\n",
    "\n",
    "        print('so this break statement will never be read?!')\n",
    "        break\n",
    "\n",
    "    elif number in [8, 9]:\n",
    "        print(str(number))\n",
    "        print(\"break? break!\")\n",
    "        break\n",
    "        \n",
    "        print('so this continue statement will never be reached?!')\n",
    "        continue        \n",
    "\n",
    "    else:\n",
    "        print('else cond = ' + str(number))"
   ]
  },
  {
   "cell_type": "markdown",
   "id": "b9ecb6f2",
   "metadata": {},
   "source": [
    "What about `pass` then? We'll use it to tell our loop to `do nothing` if a certain condition is met. Exciting, i know! "
   ]
  },
  {
   "cell_type": "code",
   "execution_count": 27,
   "id": "0a9433aa",
   "metadata": {},
   "outputs": [
    {
     "name": "stdout",
     "output_type": "stream",
     "text": [
      "else_statement: number 0 encountered! ...continuing...\n",
      "else_statement: number 1 encountered! ...continuing...\n",
      "elif_statement: number 2 encountered! ...continuing...\n",
      "elif_statement: number 3 encountered! ...continuing...\n",
      "If statements: number 4 encountered!\n",
      "If statements: number 5 encountered!\n",
      "elif_statement: number 6 encountered! ...continuing...\n",
      "If statements: number 7 encountered!\n",
      "else_statement: number 8 encountered! ...continuing...\n",
      "If statements: number 9 encountered!\n"
     ]
    }
   ],
   "source": [
    "for number in rangelist:\n",
    "    if number in [4, 5, 7, 9]:\n",
    "        print('If statements: number ' + str(number) + ' encountered!')\n",
    "    elif number in [2, 3, 6]:\n",
    "        pass\n",
    "        print('elif_statement: number ' + str(number) + ' encountered!' + ' ...continuing...')\n",
    "        pass\n",
    "    else:\n",
    "        print('else_statement: number ' + str(number) + ' encountered!' + ' ...continuing...')\n",
    "        continue"
   ]
  },
  {
   "cell_type": "markdown",
   "id": "dc813a6b",
   "metadata": {},
   "source": [
    "This is mostly used as a placeholder for code you haven't written yet and allows us to avoid syntax errors"
   ]
  },
  {
   "cell_type": "code",
   "execution_count": 9,
   "id": "62d3399c",
   "metadata": {},
   "outputs": [
    {
     "ename": "IndentationError",
     "evalue": "expected an indented block (3784362249.py, line 7)",
     "output_type": "error",
     "traceback": [
      "\u001b[0;36m  Cell \u001b[0;32mIn [9], line 7\u001b[0;36m\u001b[0m\n\u001b[0;31m    else:\u001b[0m\n\u001b[0m    ^\u001b[0m\n\u001b[0;31mIndentationError\u001b[0m\u001b[0;31m:\u001b[0m expected an indented block\n"
     ]
    }
   ],
   "source": [
    "for number in rangelist:\n",
    "    if number in [4, 5, 7, 9]:\n",
    "        print('If statements: number ' + str(number) + ' encountered!')\n",
    "    elif number in [2, 3, 6]:\n",
    "        # indented code-block expected, this will lead to an syntax error\n",
    "\n",
    "    else:\n",
    "        print('else_statement: number ' + str(number) + ' encountered!' + ' ...continuing...')\n",
    "        continue"
   ]
  },
  {
   "cell_type": "markdown",
   "id": "7dd1793f",
   "metadata": {
    "slideshow": {
     "slide_type": "subslide"
    }
   },
   "source": [
    "#### Exercise 3.1\n",
    "\n",
    "Use a `for loop` to print every **even** number from `0 to 10`\n",
    "\n",
    "_Hint: you can check if a number is even with `number % 2 == 0`. Remember the `modulo` operator?_"
   ]
  },
  {
   "cell_type": "code",
   "execution_count": 53,
   "id": "66c39329",
   "metadata": {
    "solution2": "hidden",
    "solution2_first": true
   },
   "outputs": [],
   "source": [
    "### Write your solution here ###\n"
   ]
  },
  {
   "cell_type": "markdown",
   "id": "cdb18b80",
   "metadata": {
    "slideshow": {
     "slide_type": "subslide"
    }
   },
   "source": [
    "#### Exercise 3.2\n",
    "\n",
    "Use a `for loop` that iterates over `all days in december (31)` and always `prints` the `number of days left until christmas`. This loop should `break` once `christmas` is reached and should wish you a merry christmas using a `print` statement. \n",
    "\n",
    "_Hint: define a variable called christmasday that is assigned before your loop starts_"
   ]
  },
  {
   "cell_type": "code",
   "execution_count": 55,
   "id": "a2d25afa",
   "metadata": {
    "solution2": "hidden",
    "solution2_first": true
   },
   "outputs": [],
   "source": [
    "### Write your solution here ###\n"
   ]
  },
  {
   "cell_type": "markdown",
   "id": "6a24e4cc",
   "metadata": {
    "slideshow": {
     "slide_type": "subslide"
    }
   },
   "source": [
    "#### Exercise 3.3\n",
    "\n",
    "Create a `list` of your three most favourite foods and iterate over it. In each iteration print the `position` (aka `index`) and the `food`. For example:\n",
    "- 1. Pasta\n",
    "- 2. Pizzas\n",
    "- 3. Wraps\n",
    "\n",
    "_Hint: all necessary commands can be found in this script_"
   ]
  },
  {
   "cell_type": "code",
   "execution_count": 57,
   "id": "834e989a",
   "metadata": {
    "solution2": "hidden",
    "solution2_first": true
   },
   "outputs": [],
   "source": [
    "### Write your solution here ###\n"
   ]
  },
  {
   "cell_type": "markdown",
   "id": "a915917a",
   "metadata": {
    "slideshow": {
     "slide_type": "subslide"
    }
   },
   "source": [
    "**List comprehensions: Creating lists using `for` loops**:\n",
    "\n",
    "Now you might encounter some strange looking loops when looking for code online. To keep code sparse and simple looking programmers may sometimes opt to use a single line instead of an indented block for their loops by using `list comprehensions`:\n",
    "\n",
    "A convenient and compact way to initialize lists would then look like this:\n",
    "\n",
    "</br>\n",
    "\n",
    "<center><img src=\"https://www.learnbyexample.org/wp-content/uploads/python/Python-List-Comprehension-Syntax.png\" width=600></center>\n",
    "<center><small><small><small><small><small><small><small>https://www.learnbyexample.org/wp-content/uploads/python/Python-List-Comprehension-Syntax.png</small></small></small></small></small></small></small></center>\n",
    "\n",
    "</br>\n",
    "How would you explains this code snippet in natural language?"
   ]
  },
  {
   "cell_type": "markdown",
   "id": "51e24a10",
   "metadata": {
    "slideshow": {
     "slide_type": "subslide"
    }
   },
   "source": [
    "<center><img src=\"https://4.bp.blogspot.com/-uRPZqKbIGwQ/XRtgWhC6qqI/AAAAAAAAH0w/--oGnwKsnpo00GwQgH2gV3RPwHwK8uONgCLcBGAs/s1600/comprehension.PNG\" width=600></center>\n",
    "<center><small><small><small><small><small><small><small>https://4.bp.blogspot.com/-uRPZqKbIGwQ/XRtgWhC6qqI/AAAAAAAAH0w/--oGnwKsnpo00GwQgH2gV3RPwHwK8uONgCLcBGAs/s1600/comprehension.PNG</small></small></small></small></small></small></small></center>"
   ]
  },
  {
   "cell_type": "markdown",
   "id": "75e6f225",
   "metadata": {},
   "source": [
    "We'll use it to `square` every number `x` in a `list` containing the numbers 0 - 4 and add those to a new `list` called `list_x_squared`:"
   ]
  },
  {
   "cell_type": "code",
   "execution_count": 29,
   "id": "a4660738",
   "metadata": {},
   "outputs": [
    {
     "name": "stdout",
     "output_type": "stream",
     "text": [
      "[0, 1, 4, 9, 16]\n"
     ]
    }
   ],
   "source": [
    "list_x_squared = [x**2 for x in range(0,5)]\n",
    "\n",
    "print(list_x_squared)"
   ]
  },
  {
   "cell_type": "markdown",
   "id": "75cb8176",
   "metadata": {
    "slideshow": {
     "slide_type": "subslide"
    }
   },
   "source": [
    "You can also use an `if statement` in your `list comprehension`. But be careful with the `ordering`. A _single if_ can be after the for loop. However, _if and else together_ have to be in front. Lets see some examples."
   ]
  },
  {
   "cell_type": "code",
   "execution_count": 30,
   "id": "73fad135",
   "metadata": {},
   "outputs": [
    {
     "name": "stdout",
     "output_type": "stream",
     "text": [
      "[9, 16]\n"
     ]
    }
   ],
   "source": [
    "# if our x is greater than 2, run the list comprehension\n",
    "list_2 = [x**2 for x in range(0,5) if x > 2]\n",
    "print(list_2)"
   ]
  },
  {
   "cell_type": "code",
   "execution_count": 31,
   "id": "3a95b0e1",
   "metadata": {},
   "outputs": [
    {
     "ename": "SyntaxError",
     "evalue": "invalid syntax (794228124.py, line 1)",
     "output_type": "error",
     "traceback": [
      "\u001b[0;36m  Cell \u001b[0;32mIn [31], line 1\u001b[0;36m\u001b[0m\n\u001b[0;31m    list_3 = [x**2 for x in range(0,5) if x > 2 else x]\u001b[0m\n\u001b[0m                                                ^\u001b[0m\n\u001b[0;31mSyntaxError\u001b[0m\u001b[0;31m:\u001b[0m invalid syntax\n"
     ]
    }
   ],
   "source": [
    "list_3 = [x**2 for x in range(0,5) if x > 2 else x]\n",
    "print(list_3)"
   ]
  },
  {
   "cell_type": "markdown",
   "id": "04d8382c",
   "metadata": {
    "slideshow": {
     "slide_type": "subslide"
    }
   },
   "source": [
    "Now lets put the if-else statement before the `for` loop"
   ]
  },
  {
   "cell_type": "code",
   "execution_count": 32,
   "id": "136ca92a",
   "metadata": {},
   "outputs": [
    {
     "name": "stdout",
     "output_type": "stream",
     "text": [
      "[0, 1, 2, 9, 16]\n"
     ]
    }
   ],
   "source": [
    "list_3 = [x**2 if x > 2 else x for x in range(0,5)]\n",
    "print(list_3)"
   ]
  },
  {
   "cell_type": "markdown",
   "id": "41d77178",
   "metadata": {},
   "source": [
    "Don't be discouraged if that looks confusing, you'll get the hang of it once you actually start working or fiddling  with `list comprehensions`. Further, it is always fine to use the explicit loop structure, we've learned before!"
   ]
  },
  {
   "cell_type": "markdown",
   "id": "54303161",
   "metadata": {
    "slideshow": {
     "slide_type": "subslide"
    }
   },
   "source": [
    "#### Exercise 3.4\n",
    "\n",
    "Use a `list comprehension` to create a `list` containing `all letters` that are in the word 'human'.\n",
    "\n",
    "_As always, there are different ways to solve this_"
   ]
  },
  {
   "cell_type": "code",
   "execution_count": 63,
   "id": "b570b62d",
   "metadata": {
    "solution2": "hidden",
    "solution2_first": true
   },
   "outputs": [],
   "source": [
    "### Write your solution here ###\n"
   ]
  },
  {
   "cell_type": "markdown",
   "id": "388dba83",
   "metadata": {
    "slideshow": {
     "slide_type": "subslide"
    }
   },
   "source": [
    "#### Exercise 3.5\n",
    "Use a `list comprehension` to create a `list` with all **even** numbers from `0 to 19`.\n",
    "\n",
    "_Where would you use your `if` statement?_"
   ]
  },
  {
   "cell_type": "markdown",
   "id": "c80ef6e1",
   "metadata": {
    "slideshow": {
     "slide_type": "subslide"
    }
   },
   "source": [
    "#### Exercise 2.6\n",
    "Use a `list comprehension` to create a new `list` with all **uneven** numbers from `0 to 19` and set all **even** numbers to `0`.\n",
    "\n",
    "_Hint: Probably a good idea to use both `if` and `else`. In the End the list should still have a length of 20._"
   ]
  },
  {
   "cell_type": "code",
   "execution_count": 67,
   "id": "3d4e25d4",
   "metadata": {
    "solution2": "hidden",
    "solution2_first": true
   },
   "outputs": [],
   "source": [
    "### Write your solution here ###\n"
   ]
  },
  {
   "cell_type": "markdown",
   "id": "1d0b4363",
   "metadata": {
    "slideshow": {
     "slide_type": "subslide"
    }
   },
   "source": [
    "## `while` loops:\n",
    "\n",
    "Sometimes we do not have a certain iterable that we want or can use for our loops. Enter the `while loop`.\n",
    "\n",
    "\n",
    "A `while loop` is used when you want to perform a task `indefinitely`, until a particular `condition` is met. It is s a `condition-controlled loop`.\n",
    "\n",
    "<center><img src=\"https://www.learnbyexample.org/wp-content/uploads/python/Python-while-Loop-Syntax.png\" width=600></center>\n",
    "<center><small><small><small><small><small><small><small>https://www.learnbyexample.org/wp-content/uploads/python/Python-while-Loop-Syntax.png</small></small></small></small></small></small></small></center>"
   ]
  },
  {
   "cell_type": "markdown",
   "id": "90529cba",
   "metadata": {
    "slideshow": {
     "slide_type": "subslide"
    }
   },
   "source": [
    "<center><img src=\"https://media.geeksforgeeks.org/wp-content/uploads/20191101170515/while-loop.jpg\" width=600></center>\n",
    "<center><small><small><small><small><small><small><small>https://media.geeksforgeeks.org/wp-content/uploads/20191101170515/while-loop.jpg</small></small></small></small></small></small></small></center>"
   ]
  },
  {
   "cell_type": "markdown",
   "id": "1d5d716f",
   "metadata": {},
   "source": [
    "If we for example want to print all number below 5, we simply do:"
   ]
  },
  {
   "cell_type": "code",
   "execution_count": 35,
   "id": "e02b6c13",
   "metadata": {
    "slideshow": {
     "slide_type": "subslide"
    }
   },
   "outputs": [
    {
     "name": "stdout",
     "output_type": "stream",
     "text": [
      "2\n",
      "3\n",
      "4\n",
      "done\n"
     ]
    }
   ],
   "source": [
    "i = 0\n",
    "\n",
    "while i < 5:\n",
    "    print(i)\n",
    "    \n",
    "    i = i + 1\n",
    "    \n",
    "print(\"done\")"
   ]
  },
  {
   "cell_type": "markdown",
   "id": "0c749e63",
   "metadata": {
    "slideshow": {
     "slide_type": "subslide"
    }
   },
   "source": [
    "Note that the `print \"done\"` statement is not part of the `while` loop body because of the difference in the indentation."
   ]
  },
  {
   "cell_type": "markdown",
   "id": "47b02920",
   "metadata": {},
   "source": [
    "But what is the `i = i + 1` code block? Check back in the first python lesson for a qucik refresher, if necessary.\n",
    "\n",
    "For our next trick, we'll be a bit more explicit in our variable naming:"
   ]
  },
  {
   "cell_type": "code",
   "execution_count": 37,
   "id": "25b0ab39",
   "metadata": {},
   "outputs": [
    {
     "name": "stdout",
     "output_type": "stream",
     "text": [
      "0\n",
      "1\n",
      "2\n",
      "3\n",
      "4\n",
      "done\n"
     ]
    }
   ],
   "source": [
    "counter = 0\n",
    "\n",
    "while counter < 5:\n",
    "    print(counter)\n",
    "    \n",
    "    counter = counter + 1\n",
    "    \n",
    "print(\"done\")"
   ]
  },
  {
   "cell_type": "markdown",
   "id": "bc188f01",
   "metadata": {
    "slideshow": {
     "slide_type": "subslide"
    }
   },
   "source": [
    "So the `i = i + 1` updates our conditional variable on each iteration by 1 + it's previous value.\n",
    "\n",
    "If you would forget the `i = i+1` expression and our conditional variable would never be updated, we'd be stuck in our `while loop` **forever**, as the condition is never set to `not True` . Therefore `while`loops can be dangerous to use, if you're not careful."
   ]
  },
  {
   "cell_type": "code",
   "execution_count": 70,
   "id": "0177df73",
   "metadata": {
    "slideshow": {
     "slide_type": "-"
    }
   },
   "outputs": [],
   "source": [
    "# if you run this cell you will need to stop the kernel, as it is an infinite loop\n",
    "# i = 0\n",
    "# while i < 5:\n",
    "#     print(i)"
   ]
  },
  {
   "cell_type": "markdown",
   "id": "b2ad71eb",
   "metadata": {
    "slideshow": {
     "slide_type": "subslide"
    }
   },
   "source": [
    "You can also include an `else` statement after your `while` loop, to include a codeblock that should be executed once the condition is `False`"
   ]
  },
  {
   "cell_type": "code",
   "execution_count": 38,
   "id": "5df1f28b",
   "metadata": {},
   "outputs": [
    {
     "name": "stdout",
     "output_type": "stream",
     "text": [
      "Inside loop\n",
      "Inside loop\n",
      "Inside loop\n",
      "Inside else\n"
     ]
    }
   ],
   "source": [
    "counter = 0\n",
    "\n",
    "while counter < 3:\n",
    "    print(\"Inside loop\")\n",
    "    counter = counter + 1\n",
    "else:\n",
    "    print(\"Inside else\")"
   ]
  },
  {
   "cell_type": "markdown",
   "id": "ab0959cd",
   "metadata": {
    "slideshow": {
     "slide_type": "subslide"
    }
   },
   "source": [
    "#### Exercise 3.7\n",
    "\n",
    "Calculate the `number of friends` that you can invite to the cinema using a `while`-loop\n",
    "\n",
    "Remember:\n",
    "- money = 43\n",
    "- ticket_price = 10\n",
    "\n",
    "_Hint: You may want to alter your money to calculate this, by updating the \"money\" variable as demonstrated above._\n",
    "    "
   ]
  },
  {
   "cell_type": "code",
   "execution_count": 72,
   "id": "b2087797",
   "metadata": {
    "solution2": "hidden",
    "solution2_first": true
   },
   "outputs": [],
   "source": [
    "### Write your solution here ###\n"
   ]
  },
  {
   "cell_type": "markdown",
   "id": "66055c40",
   "metadata": {
    "slideshow": {
     "slide_type": "subslide"
    }
   },
   "source": [
    "## Functions\n",
    "\n",
    "Rule of thumb for great `programming`: \"Whenever you copy-paste while coding, you do something wrong.'\n",
    "\n",
    "We use `functions` to solve problems that are `repetitive`. \n",
    "\n",
    "What should you put into a `function`: \n",
    "- Anything, that you will do more than once\n",
    "- All `code blocks` that have some kind of `meaning`, e.g. calculating the `square root` of a `value`\n",
    "- `Code` that can be increased in readability, where you would like to add a comment"
   ]
  },
  {
   "cell_type": "markdown",
   "id": "2d7827aa",
   "metadata": {
    "slideshow": {
     "slide_type": "subslide"
    }
   },
   "source": [
    "A `function` ...\n",
    "- is a `block of code` that only runs when explicitly called\n",
    "- can accept `arguments` (or `parameters`) that `alter` its `behavior`\n",
    "- can accept any number/`type` of `inputs`, but always `return` a `single object`\n",
    "\n",
    "Note: `functions` can return `tuples` (may look like `multiple objects`)"
   ]
  },
  {
   "cell_type": "markdown",
   "id": "877729f9",
   "metadata": {
    "slideshow": {
     "slide_type": "subslide"
    }
   },
   "source": [
    "A function in `Python` is defined using the keyword `def`, followed by a `function name`, a `signature` within parentheses `()`, and a colon `:`. The following `code`, with one additional level of `indentation`, is the `function body`. \n",
    "\n",
    "</br>\n",
    "</br>\n",
    "\n",
    "<center><img src=\"https://raw.githubusercontent.com/PeerHerholz/Python_for_Psychologists_Winter2021/master/lecture/static/python_functions.png\" width=700></center>\n",
    "\n",
    "Let's check this different components in further detail."
   ]
  },
  {
   "cell_type": "code",
   "execution_count": 1,
   "id": "fdf65f7f",
   "metadata": {
    "slideshow": {
     "slide_type": "subslide"
    }
   },
   "outputs": [
    {
     "name": "stdout",
     "output_type": "stream",
     "text": [
      "hello world\n"
     ]
    }
   ],
   "source": [
    "def say_hello():\n",
    "    # block belonging to the function\n",
    "    print('hello world')\n",
    "\n",
    "say_hello() # call the function"
   ]
  },
  {
   "cell_type": "markdown",
   "id": "e0e13311",
   "metadata": {
    "slideshow": {
     "slide_type": "-"
    }
   },
   "source": [
    "The `function` above does not take any `arguments` but only executes the `code` within. As there is no explicit `return statement` the function will simply return `None`. \n",
    "\n",
    "Let's check that. To access the `return value` of a `function`, you simply `assign` the `function` to a `variable`, as we learned above and in the previous sessions."
   ]
  },
  {
   "cell_type": "code",
   "execution_count": 3,
   "id": "4876033d",
   "metadata": {},
   "outputs": [
    {
     "name": "stdout",
     "output_type": "stream",
     "text": [
      "hello world\n",
      "None\n"
     ]
    }
   ],
   "source": [
    "greetings = say_hello()\n",
    "print(greetings)"
   ]
  },
  {
   "cell_type": "markdown",
   "id": "be3a8784",
   "metadata": {
    "slideshow": {
     "slide_type": "subslide"
    }
   },
   "source": [
    "As you see, the `function` still printed the `'hello world'` but the returned `value` that was stored in `greetings` is `None`. \n",
    "\n",
    "A `function` can also accept `arguments` within the `parentheses`, making it super flexible. For example:"
   ]
  },
  {
   "cell_type": "code",
   "execution_count": 4,
   "id": "37f44679",
   "metadata": {},
   "outputs": [
    {
     "name": "stdout",
     "output_type": "stream",
     "text": [
      "25\n",
      "27\n"
     ]
    }
   ],
   "source": [
    "def calc_power(x, p):\n",
    "    power = x ** p\n",
    "    return power\n",
    "\n",
    "print(calc_power(5,2))\n",
    "print(calc_power(3,3))\n"
   ]
  },
  {
   "cell_type": "markdown",
   "id": "8ffd5b7e",
   "metadata": {
    "slideshow": {
     "slide_type": "subslide"
    }
   },
   "source": [
    "As we used a `return statement` this time, the `power` that we calculated is `returned` and can be `printed` or `assigned` to a `variable`. \n",
    "\n",
    "\n",
    "These were all simple examples, however, we can also put more complex `code blocks` into a `function`."
   ]
  },
  {
   "cell_type": "code",
   "execution_count": 6,
   "id": "2832a566",
   "metadata": {},
   "outputs": [
    {
     "name": "stdout",
     "output_type": "stream",
     "text": [
      "4 is maximum\n",
      "7 is equal to 7\n"
     ]
    }
   ],
   "source": [
    "def get_maximum(a, b):\n",
    "    maximum = None\n",
    "    if a > b:\n",
    "        print( a, 'is maximum')\n",
    "        maximum = a\n",
    "    elif a == b:\n",
    "        print(a, 'is equal to', b)\n",
    "        maximum = a\n",
    "    else:\n",
    "        print(b, 'is maximum')\n",
    "        maximum = b\n",
    "    return maximum\n",
    "\n",
    "# directly pass literal values\n",
    "maximum = get_maximum(3, 4)\n",
    "\n",
    "x = 7\n",
    "y = 7\n",
    "\n",
    "# pass variables as arguments\n",
    "maximum = get_maximum(x, y)"
   ]
  },
  {
   "cell_type": "markdown",
   "id": "f3273898",
   "metadata": {
    "slideshow": {
     "slide_type": "subslide"
    }
   },
   "source": [
    "We can also `return` multiple `values` from a `function` using `tuples`:"
   ]
  },
  {
   "cell_type": "code",
   "execution_count": 4,
   "id": "a2084790",
   "metadata": {},
   "outputs": [],
   "source": [
    "def calc_powers(x):\n",
    "    \"\"\"\n",
    "    Return a few powers of x.\n",
    "    \"\"\"\n",
    "    return x ** 2, x ** 3, x ** 4"
   ]
  },
  {
   "cell_type": "code",
   "execution_count": 6,
   "id": "a57d7cf3",
   "metadata": {
    "slideshow": {
     "slide_type": "fragment"
    }
   },
   "outputs": [
    {
     "name": "stdout",
     "output_type": "stream",
     "text": [
      "(25, 125, 625)\n"
     ]
    }
   ],
   "source": [
    "x = 5\n",
    "powers = calc_powers(x)\n",
    "print(powers)"
   ]
  },
  {
   "cell_type": "markdown",
   "id": "f32224bd",
   "metadata": {
    "slideshow": {
     "slide_type": "subslide"
    }
   },
   "source": [
    "As you see, your `output variable` `powers` is a `tuple` that contains the `output values` of the `function`. We can however, split this `tuple` directly into the specific `values`. This can help to make your `code` more readable. "
   ]
  },
  {
   "cell_type": "code",
   "execution_count": 9,
   "id": "8cfe41b2",
   "metadata": {},
   "outputs": [
    {
     "name": "stdout",
     "output_type": "stream",
     "text": [
      "125\n"
     ]
    }
   ],
   "source": [
    "x2, x3, x4 = calc_powers(5)\n",
    "print(x3)"
   ]
  },
  {
   "cell_type": "markdown",
   "id": "67e5c18b",
   "metadata": {
    "slideshow": {
     "slide_type": "subslide"
    }
   },
   "source": [
    "**Very important**: `Variables` inside a `function` are treated as `local variables` and therefore don't interfere with `variables` outside the scope of the `function`."
   ]
  },
  {
   "cell_type": "code",
   "execution_count": 7,
   "id": "17a3ed0e",
   "metadata": {},
   "outputs": [
    {
     "name": "stdout",
     "output_type": "stream",
     "text": [
      "x is 50\n",
      "Changed local x to 2\n",
      "x is still 50\n"
     ]
    }
   ],
   "source": [
    "x = 50\n",
    "\n",
    "def func(x):\n",
    "    print('x is', x)\n",
    "    x = 2\n",
    "    print('Changed local x to', x)\n",
    "\n",
    "func(x)\n",
    "print('x is still', x)"
   ]
  },
  {
   "cell_type": "markdown",
   "id": "066ca173",
   "metadata": {
    "slideshow": {
     "slide_type": "subslide"
    }
   },
   "source": [
    "To access a `local function variable`, we can extend the `local scope` with the keyword `global`."
   ]
  },
  {
   "cell_type": "code",
   "execution_count": 9,
   "id": "18139405",
   "metadata": {},
   "outputs": [
    {
     "name": "stdout",
     "output_type": "stream",
     "text": [
      "x is 50\n",
      "Changed global x to 2\n",
      "Value of x is 2\n"
     ]
    }
   ],
   "source": [
    "x = 50\n",
    "\n",
    "def func():\n",
    "    global x\n",
    "\n",
    "    print('x is', x)\n",
    "    x = 2\n",
    "    print('Changed global x to', x)\n",
    "\n",
    "func()\n",
    "print('Value of x is', x)"
   ]
  },
  {
   "cell_type": "markdown",
   "id": "8e8cd55f",
   "metadata": {
    "slideshow": {
     "slide_type": "subslide"
    }
   },
   "source": [
    "Optionally, but highly recommended, we can define a so called `\"docstring\"`, which is a `description` of the `functions` purpose and behavior. The `docstring` should follow directly after the `function definition`, before the `code` in the `function body`.\n",
    "\n",
    "You can also define the `input` and `return` `parameters` in the `docstring`. There are several `conventions` to do this."
   ]
  },
  {
   "cell_type": "code",
   "execution_count": 1,
   "id": "423812ca",
   "metadata": {},
   "outputs": [],
   "source": [
    "def func_with_docstring(s):\n",
    "    \"\"\"\n",
    "    Print a string 's' and tell how many characters it has    \n",
    "    :param s (string): input string of any length\n",
    "    :returns: None\n",
    "    \"\"\"\n",
    "    \n",
    "    print(s + \" has \" + str(len(s)) + \" characters\")"
   ]
  },
  {
   "cell_type": "code",
   "execution_count": 2,
   "id": "d49b77f2",
   "metadata": {
    "slideshow": {
     "slide_type": "subslide"
    }
   },
   "outputs": [
    {
     "name": "stdout",
     "output_type": "stream",
     "text": [
      "Help on function func_with_docstring in module __main__:\n",
      "\n",
      "func_with_docstring(s)\n",
      "    Print a string 's' and tell how many characters it has    \n",
      "    :param s (string): input string of any length\n",
      "    :returns: None\n",
      "\n"
     ]
    }
   ],
   "source": [
    "help(func_with_docstring)"
   ]
  },
  {
   "cell_type": "code",
   "execution_count": 3,
   "id": "ab13a1c4",
   "metadata": {},
   "outputs": [
    {
     "name": "stdout",
     "output_type": "stream",
     "text": [
      "So much fun to write functions has 30 characters\n"
     ]
    }
   ],
   "source": [
    "func_with_docstring('So much fun to write functions')"
   ]
  },
  {
   "cell_type": "markdown",
   "id": "5118162f",
   "metadata": {
    "slideshow": {
     "slide_type": "subslide"
    }
   },
   "source": [
    "### Positional vs. keyword arguments\n",
    "\n",
    "- `Positional arguments` are defined by `position` and must be passed\n",
    "    - `Arguments` in the `function signature` are filled _in order_\n",
    "- `Keyword arguments` have a `default value`\n",
    "    - `Arguments` can be passed in _arbitrary order_ (_after any `positional arguments`_)"
   ]
  },
  {
   "cell_type": "markdown",
   "id": "dd26cd19",
   "metadata": {
    "slideshow": {
     "slide_type": "subslide"
    }
   },
   "source": [
    "You might not think that at the moment, but `coding` is all about readability. You only write it once, but you will probably read it several times. \n",
    "\n",
    "In `Python` we can increase readability when calling a `function` by also naming our `positional arguments`. For example:"
   ]
  },
  {
   "cell_type": "code",
   "execution_count": 10,
   "id": "e16b6879",
   "metadata": {},
   "outputs": [],
   "source": [
    "def calc_power(x, power):\n",
    "    return x ** power"
   ]
  },
  {
   "cell_type": "markdown",
   "id": "21f7e55e",
   "metadata": {
    "slideshow": {
     "slide_type": "fragment"
    }
   },
   "source": [
    "We could now simply input the variables that we want to compute:"
   ]
  },
  {
   "cell_type": "code",
   "execution_count": 11,
   "id": "a825cc07",
   "metadata": {},
   "outputs": [
    {
     "data": {
      "text/plain": [
       "4"
      ]
     },
     "execution_count": 11,
     "metadata": {},
     "output_type": "execute_result"
    }
   ],
   "source": [
    "calc_power(2, 2)"
   ]
  },
  {
   "cell_type": "markdown",
   "id": "3b810fe1",
   "metadata": {
    "slideshow": {
     "slide_type": "subslide"
    }
   },
   "source": [
    "The input in the function is **positionally** defined. Hence, the first parameter represents `x` and the second `power`. But does this really tell you what is happening, just from reading the `function`? \n",
    "We can increase readability by calling the `parameters` by their names:"
   ]
  },
  {
   "cell_type": "code",
   "execution_count": 15,
   "id": "c701bf34",
   "metadata": {},
   "outputs": [
    {
     "data": {
      "text/plain": [
       "4"
      ]
     },
     "execution_count": 15,
     "metadata": {},
     "output_type": "execute_result"
    }
   ],
   "source": [
    "calc_power(x=2, power=2)"
   ]
  },
  {
   "cell_type": "markdown",
   "id": "2e09ed34",
   "metadata": {
    "slideshow": {
     "slide_type": "subslide"
    }
   },
   "source": [
    "Now everyone that looks at your code, can directly see what is happening. If we explicitly list the name of the `arguments` in the `function calls`, they do not need to come in the same order as in the `function definition`. This is called **keyword** `arguments` and is often very useful in `functions` that take a lot of `optional arguments`.\n",
    "\n",
    "Additionally we could also give `default values` to the `arguments` the `function` takes:"
   ]
  },
  {
   "cell_type": "code",
   "execution_count": 17,
   "id": "a3c93b4d",
   "metadata": {},
   "outputs": [],
   "source": [
    "def calc_power(x, power=2):\n",
    "    return x ** power"
   ]
  },
  {
   "cell_type": "markdown",
   "id": "fe7b4525",
   "metadata": {
    "slideshow": {
     "slide_type": "subslide"
    }
   },
   "source": [
    "If we don’t provide a `value` for the `power` argument when calling the the function `calc_power` it `defaults` to the `value` provided in the `function definition`:"
   ]
  },
  {
   "cell_type": "code",
   "execution_count": 18,
   "id": "d1d3f889",
   "metadata": {},
   "outputs": [
    {
     "data": {
      "text/plain": [
       "9"
      ]
     },
     "execution_count": 18,
     "metadata": {},
     "output_type": "execute_result"
    }
   ],
   "source": [
    "x = 3\n",
    "calc_power(x)"
   ]
  },
  {
   "cell_type": "markdown",
   "id": "74fba11b",
   "metadata": {
    "slideshow": {
     "slide_type": "subslide"
    }
   },
   "source": [
    "Such `default values` are especially useful for `functions` that take a lot of `arguments`, as it reduces the amount of `arguments` that you have to pass to the `function`. \n",
    "\n",
    "`Arguments` with a `default value` ...\n",
    "- have to be `defined` /called _AFTER_ the `positional values`\n",
    "- don't have to be called in order"
   ]
  },
  {
   "cell_type": "markdown",
   "id": "8fba80bf",
   "metadata": {
    "slideshow": {
     "slide_type": "subslide"
    }
   },
   "source": [
    "#### Let's quickly talk about function names...\n",
    "\n",
    "`Function names` are very important. They will allow you to tell the story of your code. Time spent on naming is never wasted time in `coding`.\n",
    "\n",
    "The 'pythonic' way to write `functions` is to also imply in the name what the `function` will do. \n",
    "\n",
    "Some examples:\n",
    "- when you calculate something you can use `calc` in your `function name`. \n",
    "- when you want to test if something is `true` with your `function` you could use `is`. E.g., `is_above_value(x, value=10)` could return `True` if the `input value` `x` is above the `default value`.\n",
    "- use `print` if your `function` only `prints` `statements`\n",
    "\n"
   ]
  },
  {
   "cell_type": "markdown",
   "id": "c349070b",
   "metadata": {
    "slideshow": {
     "slide_type": "subslide"
    },
    "solution2": "hidden",
    "solution2_first": true
   },
   "source": [
    "#### Exercise 3.1\n",
    "\n",
    "Define a `function` called `get_longest_string` that takes two `strings` as `input` and `returns` the `longer string`. If the `strings` have the same `length`, the `first` one should be `returned`. \n",
    "\n",
    "Call your `function` once, using `positional arguments` and once using `keyword arguments`."
   ]
  },
  {
   "cell_type": "code",
   "execution_count": 20,
   "id": "c785058c",
   "metadata": {
    "solution2": "hidden",
    "solution2_first": true
   },
   "outputs": [],
   "source": [
    "## Write your solution here"
   ]
  },
  {
   "cell_type": "code",
   "execution_count": 21,
   "id": "e85dce0e",
   "metadata": {
    "solution2": "hidden"
   },
   "outputs": [],
   "source": [
    "def get_longest_string(string_one, string_two):\n",
    "    if len(string_one) >= len(string_two):\n",
    "        return string_one\n",
    "    else:\n",
    "        string_two\n",
    "        \n",
    "longest_string = get_longest_string('yoda', 'skywalker')\n",
    "longest_string = get_longest_string(string_one='yoda', string_two='skywalker')"
   ]
  },
  {
   "cell_type": "markdown",
   "id": "e0a69956",
   "metadata": {
    "slideshow": {
     "slide_type": "subslide"
    },
    "solution2": "hidden",
    "solution2_first": true
   },
   "source": [
    "#### Exercise 3.2\n",
    "\n",
    "Define a `function` `happy_holidays` that wishes the user happy holidays. It takes the name of the `user` as `input` `argument`. When the `user` does not define a name, your `function` should use a `default value`. \n",
    "Then call it once, `inputting` a `user name` and once without. "
   ]
  },
  {
   "cell_type": "code",
   "execution_count": 24,
   "id": "e5c53bc9",
   "metadata": {
    "solution2": "hidden",
    "solution2_first": true
   },
   "outputs": [],
   "source": [
    "## Write your solution here"
   ]
  },
  {
   "cell_type": "code",
   "execution_count": 23,
   "id": "3f4743a3",
   "metadata": {
    "solution2": "hidden"
   },
   "outputs": [
    {
     "name": "stdout",
     "output_type": "stream",
     "text": [
      "I wish you a very merry Christmas, Maren.\n",
      "I wish you a very merry Christmas, you awesome individual.\n"
     ]
    }
   ],
   "source": [
    "def happy_holidays(user_name='you awesome individual'):\n",
    "    print(f'I wish you happy holidays, {user_name}.')\n",
    "\n",
    "merry_christmas(user_name='Maren')\n",
    "merry_christmas(user_name='you awesome individual')"
   ]
  },
  {
   "cell_type": "markdown",
   "id": "39e2bea1",
   "metadata": {
    "slideshow": {
     "slide_type": "subslide"
    }
   },
   "source": [
    "## Homework assignment #5\n",
    "\n",
    "Your fourth homework assignment will entail working through a few tasks covering the contents discussed in this session within of a `jupyter notebook`. You can download it [here](will be up soon). In order to open it, put the `homework assignment notebook` within the folder you stored the `course materials`, start a `jupyter notebook` as during the sessions, navigate to the `homework assignment notebook`, open it and have fun! NB: a substantial part of it will be _optional_ and thus the notebook will look way longer than it actually is.\n",
    "\n",
    "https://9anime.vc/\n",
    "Also, in preparation for our switch to more applied things, i.e. starting with experiments in `python`. We'll have to install `psychopy`. To do that please download the [environment.yml](https://raw.githubusercontent.com/psychopy/psychopy/master/conda/psychopy-env.yml) file provided and create a new respective `conda environment` (remember those?) via the following lines:\n",
    "\n",
    "      conda env create -n psychopy -f psychopy-env.yml\n",
    "      conda activate psychopy\n",
    "      pip install jedi psychtoolbox pygame pyo pyobjc python-vlc ujson\n",
    "\n",
    "and then test if everything works via running the command `psychopy` (type it and then press “enter”) from within the new environment (make sure you did activate it via `conda activate psychopy`)."
   ]
  }
 ],
 "metadata": {
  "celltoolbar": "Slideshow",
  "kernelspec": {
   "display_name": "Python 3 (ipykernel)",
   "language": "python",
   "name": "python3"
  },
  "language_info": {
   "codemirror_mode": {
    "name": "ipython",
    "version": 3
   },
   "file_extension": ".py",
   "mimetype": "text/x-python",
   "name": "python",
   "nbconvert_exporter": "python",
   "pygments_lexer": "ipython3",
   "version": "3.9.13"
  }
 },
 "nbformat": 4,
 "nbformat_minor": 5
}
