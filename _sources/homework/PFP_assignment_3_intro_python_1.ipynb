{
 "cells": [
  {
   "cell_type": "markdown",
   "id": "379573b3",
   "metadata": {},
   "source": [
    "<img src=\"https://github.com/M-earnest/Python_for_Psychologists_Winter2022/blob/main/lecture/static/pfp_logo.png?raw=true\" width=300 />\n",
    "\n",
    "<center><h3>Homework assignment #3 - Introduction to Python - 1</h3></center>\n",
    "\n",
    "Ahoi hoi folks and welcome to homework assignment #3 of the \"Python for Psychologists\" course, winter term 2022. This homework assignment will be your first venture into the practical use of python and probably also your first time working with jupyter notebooks. Even though we've used `jupyter notebooks` in the seminar sessions you'll might encounter some problems or unexpected behaviors. Thus, if you encounter any problems along the way, please don't hesitate to get in touch (via e-mail or the discord server) or check back in the [`Introduction to Jupyter`](https://m-earnest.github.io/Python_for_Psychologists_Winter2022/introduction/introduction_4.html) or the [`Intro to Python I`](https://m-earnest.github.io/Python_for_Psychologists_Winter2022/introduction/introduction_5.html) chapters on the course website. \n",
    "\n",
    "\n",
    "Some general points:\n",
    "\n",
    "Throughout the assignment you will be asked to either provide some `answers to questions in written form` or directly `code`. Regarding the first, you can just write your answer in the empty `markdown cells` below the questions. Regarding the second, you can write your `code` in the empty `code cells` below the questions and actually `run` it so that the output (if there's one) will be included in the notebook. The `number` and `type` of `cell` you need to answer a given questions will be indicated but if you want to use more `cells` please don't hesitate to add a few. If you see something like \"Type Markdown ... or Please provide your solution here\n",
    "\", you can just click (or double-click) on it to make it a `markdown cell`. If any of this sounds confusing or unclear you can again consult the [`Introduction to Jupyter`](https://m-earnest.github.io/Python_for_Psychologists_Winter2022/introduction/introduction_4.html) page. \n",
    "\n",
    "Please don't forget to save your `notebook` regularly (maybe every few minutes) either via `strg + s` on `windows` and `cmd + s` on `macOS`. Once you finished the `assignment`, pleas save the entire `notebook` via `File` -> `Save as...` and provide the following name `FirstNameSurname_pfp_2022_homework_assignment_3` where `FirstName` should be changed to your first name and `Surname` to your surname.\n",
    "\n",
    "The aim of this homework assignment is to go through the things we talked about in the session again and deepen your understanding of them. This will entail the following parts:\n",
    "\n",
    "[1. Characteristics of the `python` programming language]()  \n",
    "[2. Modules]()  \n",
    "[3. Variables & data types]()  \n",
    "[4. Outro/Q&A]()  \n",
    "\n",
    "You should be able to answer all of the following questions given the content included in the respective sections on the website, as well as the things covered in during the session. **If you feel like some of the things asked here were actually not (sufficiently) covered during the session, please don't hesitate to let me know ASAP and we'll figure that out.** Otherwise you of course are welcome to train your \"google muscles\", just keep in mind that code directly copied from the internet should include sufficient credits (i.e. include links to the respective website as a comment in code/markdown cells. And remember that there is always more than one correct answer in `programming`.\n",
    "\n",
    "However, after this way too long intro, I wish you a great time and hope this will feel less like an assignment and more like a fun add on to the session. Again: learning new things takes time and programming is by no means an exception to that. Thus don't worry if you have to look back and fourth between the assignment and the materials: we all start somewhere and you putting in the effort is already fantastic. You got this!\n",
    "\n",
    "<img src=\"https://media4.giphy.com/media/11F0d3IVhQbreE/giphy.gif?cid=ecf05e47mwgbxua2plvfxralxf36ahupi2mubqdc416b6l8f&rid=giphy.gif&ct=g\" width=300 />\n",
    "<center><a href=\"https://giphy.com/gifs/bill-murray-pointing-you-got-this-11F0d3IVhQbreE\">via GIPHY</a></center>"
   ]
  },
  {
   "cell_type": "markdown",
   "id": "66b22150",
   "metadata": {},
   "source": [
    "## Homework assignment #3\n",
    "\n",
    "### [1. Characteristics of the `python` programming language]()\n",
    "\n",
    "During the session we talked about `Python` being a **widely used/very flexible**, **high-level**, **general-purpose**, **dynamic** programming language but what does this mean again? Please provide some points regarding each of these characteristics below, preferably in your own words. You can just write your answer in the `markdown cells` below the questions.  \n",
    "\n",
    "What is meant by **widely used**?"
   ]
  },
  {
   "cell_type": "markdown",
   "id": "2c2fc664",
   "metadata": {},
   "source": [
    "Please provide your solution here"
   ]
  },
  {
   "cell_type": "markdown",
   "id": "2eaa0f0f",
   "metadata": {},
   "source": [
    "What is meant by **high-level**?"
   ]
  },
  {
   "cell_type": "markdown",
   "id": "70eaaa03",
   "metadata": {},
   "source": [
    "Please provide your solution here"
   ]
  },
  {
   "cell_type": "markdown",
   "id": "fe5fb567",
   "metadata": {},
   "source": [
    "What is meant by **general-purpose**?"
   ]
  },
  {
   "cell_type": "markdown",
   "id": "0576fa1e",
   "metadata": {},
   "source": [
    "Please provide your solution here"
   ]
  },
  {
   "cell_type": "markdown",
   "id": "80fab0e8",
   "metadata": {},
   "source": [
    "What is meant by **dynamic**?"
   ]
  },
  {
   "cell_type": "markdown",
   "id": "a146769c",
   "metadata": {},
   "source": [
    "Please provide your solution here"
   ]
  },
  {
   "cell_type": "markdown",
   "id": "f27e4916",
   "metadata": {},
   "source": [
    "### [2. Modules]()  \n",
    "\n",
    "We started our endeavors in `python` via talking about `modules` as they are crucial to basically anything we want to do. What is a `module` again and what role do they have within the `python` ecosystem? You can just write your answer in the `markdown cell` below."
   ]
  },
  {
   "cell_type": "markdown",
   "id": "0e17f58f",
   "metadata": {},
   "source": [
    "Please provide your solution here"
   ]
  },
  {
   "cell_type": "markdown",
   "id": "cc3434a5",
   "metadata": {},
   "source": [
    "Lets assume you want to run a few basic `statistical analyses` on a behavioral dataset using the following `python modules`: `numpy`, `scipy` & `pandas`. How would you import these modules in their entirety?"
   ]
  },
  {
   "cell_type": "code",
   "execution_count": null,
   "id": "bcca6b56",
   "metadata": {},
   "outputs": [],
   "source": [
    "# Please write your solution here"
   ]
  },
  {
   "cell_type": "markdown",
   "id": "7dd9b21b",
   "metadata": {},
   "source": [
    "Would it also be possible to `import` these `modules` given certain `access names`, so that it's easier to refer to them and access their `functions`? If so, could you show how one would do that for each of the three `modules` mentioned above?"
   ]
  },
  {
   "cell_type": "code",
   "execution_count": null,
   "id": "d49b27b8",
   "metadata": {},
   "outputs": [],
   "source": [
    "# Please write your solution here"
   ]
  },
  {
   "cell_type": "markdown",
   "id": "b1560fe2",
   "metadata": {},
   "source": [
    "While having access to the entire `module` is cool we learned that we will actually only use certain `submodules`/`functions` most of the time. Based on our analyses we know that we will need the `\"min\"`, `\"max\"` and `\"mean\"` `functions` from [numpy](https://numpy.org/), the `\"DataFrame\"` `function` from [pandas](https://pandas.pydata.org/) and the `\"stats\"` package from [scipy](https://scipy.github.io/devdocs/index.html). How would you do this? (Remember that Python is case-senstive and that you can usually use tab-complete to short-cut writing out most keywords, folks!)"
   ]
  },
  {
   "cell_type": "code",
   "execution_count": null,
   "id": "33ca87f0",
   "metadata": {},
   "outputs": [],
   "source": [
    "# Please write your solution here"
   ]
  },
  {
   "cell_type": "markdown",
   "id": "55cb06e6",
   "metadata": {},
   "source": [
    "You may have noticed that the above lines contain links to the `documentation` of each `module`. This is meant to stress a very important point: `python` is not only great because it's `open-source` and has an incredible `community`, it's `modules`/`libraries` also usually have fantastics `documentation` that explain many details of the `module`, including `background`, `installation`, `functions`, `examples`, etc. . It's a great starting point for working with a new `module` and/or `function`, always freely available to you!  \n",
    "\n",
    "Before we utilize the `imported functions` we want to make sure how they work and what they do. Is there any option in `python` and/or `jupyter notebooks` to get some information or help regarding a `function`? If there is, how would you do this for the modules at hand?"
   ]
  },
  {
   "cell_type": "code",
   "execution_count": null,
   "id": "bf814a3a",
   "metadata": {},
   "outputs": [],
   "source": [
    "# Please write your solution here"
   ]
  },
  {
   "cell_type": "markdown",
   "id": "c945a0b3",
   "metadata": {},
   "source": [
    "Bonus: try searching for the `functions` you imported in the respective `documentation` or `docs` of the `module`.\n",
    "\n",
    "That being said, what would be the result if we try to use a `module`/`function` we did not `import` yet? Can you provide a brief explanation (in the markdown cell below) and proof your answer with an example (in the code cell below)?"
   ]
  },
  {
   "cell_type": "markdown",
   "id": "374440f8",
   "metadata": {},
   "source": []
  },
  {
   "cell_type": "code",
   "execution_count": null,
   "id": "98c82efa",
   "metadata": {},
   "outputs": [],
   "source": [
    "# Please write your solution here"
   ]
  },
  {
   "cell_type": "markdown",
   "id": "7fa22a02",
   "metadata": {},
   "source": [
    "### [3. Variables & data types]()\n",
    "\n",
    "The final part of the session introduced more core concepts and building blocks of the `python programming language`, specifically `assignments` (the `operator`, not homework, hehe), `variables` and `data types`. Could you briefly describe what a variable actually is?"
   ]
  },
  {
   "cell_type": "markdown",
   "id": "9a0038f9",
   "metadata": {},
   "source": [
    "Please provide your solution here"
   ]
  },
  {
   "cell_type": "markdown",
   "id": "b21c80a9",
   "metadata": {},
   "source": [
    "Amazing, thanks! Now that we know what a `variable` is we need to talk about how we `declare` them via `assignments`. If you'd want to create two `variables` `group_1` and `group_2` with the respective `values` `\"control\"` and `\"target\"`, how would you do that? "
   ]
  },
  {
   "cell_type": "code",
   "execution_count": null,
   "id": "8d4614a9",
   "metadata": {},
   "outputs": [],
   "source": [
    "# Please write your solution here"
   ]
  },
  {
   "cell_type": "markdown",
   "id": "34dc8ba9",
   "metadata": {},
   "source": [
    "Oh, this `assignment` `operator` looks like something we all saw in our `math` classes. Could you briefly explain the difference between `variables` in `coding` and `math` using the meaning of the `operator` used above? (Again, if you for example do not remember what an `operator`is in the python language, feel free to look that up.)"
   ]
  },
  {
   "cell_type": "markdown",
   "id": "c58509cb",
   "metadata": {},
   "source": [
    "Please provide your solution here"
   ]
  },
  {
   "cell_type": "markdown",
   "id": "97c17b5f",
   "metadata": {},
   "source": [
    "Speaking of which: what happens when you try to refer to an `variable` that has not been `declared` yet? Can you provide a brief explanation and proof your answer with an example?"
   ]
  },
  {
   "cell_type": "markdown",
   "id": "b10a6067",
   "metadata": {},
   "source": [
    "Please provide your solution here"
   ]
  },
  {
   "cell_type": "code",
   "execution_count": null,
   "id": "7c830c86",
   "metadata": {},
   "outputs": [],
   "source": [
    "# Please write your solution here"
   ]
  },
  {
   "cell_type": "markdown",
   "id": "b3bbe58e",
   "metadata": {},
   "source": [
    "Talking about `assignments`, `operators` and `variables`, can we actually use literally \"anything\" as a `variable name` or are there certain limitations? If so, can you name what these limitations would be and why these exist? "
   ]
  },
  {
   "cell_type": "markdown",
   "id": "c91bba9c",
   "metadata": {},
   "source": [
    "Please provide your solution here"
   ]
  },
  {
   "cell_type": "markdown",
   "id": "e28f4382",
   "metadata": {},
   "source": [
    "Following up on this, we also talked about different `data types` and `structures` we might encounter in `python`. Could you maybe list the most common ones we talked about during the `session` and what they entail?"
   ]
  },
  {
   "cell_type": "markdown",
   "id": "952101d1",
   "metadata": {},
   "source": [
    "Please provide your solution here"
   ]
  },
  {
   "cell_type": "markdown",
   "id": "60f78e38",
   "metadata": {},
   "source": [
    "Ah right, those were the ones we checked out! Is there potentially a way to find out what `type` a given `variable` has? Can you demonstrate how you would find out the `data type` of our `variables` `group_1` and `group_2`?"
   ]
  },
  {
   "cell_type": "code",
   "execution_count": null,
   "id": "27990837",
   "metadata": {},
   "outputs": [],
   "source": [
    "# Please write your solution here"
   ]
  },
  {
   "cell_type": "markdown",
   "id": "083d69d9",
   "metadata": {},
   "source": [
    "Now we actually want to `assign` our `variables` the `values` we need for the `statistical analyses`. Here they are:\n",
    "\n",
    "- the `values` of `group_1`:\n",
    "\n",
    "  [0.56377612, 0.88131505, 0.11624772, 0.07403529, 0.75973353,\n",
    "   0.00409758, 0.93428345, 0.19309668, 0.3293604 , 0.67125433,\n",
    "   0.29852433, 0.84537071, 0.61858061, 0.69103466, 0.922849  ,\n",
    "   0.4790626 , 0.84704065, 0.0797407 , 0.9544613 , 0.90069604]  \n",
    "   \n",
    "   \n",
    "- the `values` of `group_2`:\n",
    "\n",
    "  [0.7486552 , 0.51256649, 0.35233699, 0.45989524, 0.13884197,\n",
    "   0.44548063, 0.49262154, 0.6530387 , 0.1199654 , 0.64623522,\n",
    "   0.37008847, 0.35532377, 0.96873621, 0.90653078, 0.6161739 ,\n",
    "   0.26623139, 0.28488811, 0.30282947, 0.12302529, 0.25670394]\n",
    "   \n",
    "Could you please `assign` our `variables` these new `values`? (Hint: you can just copy-paste the `values` as-is from here)   "
   ]
  },
  {
   "cell_type": "code",
   "execution_count": null,
   "id": "2eb2cb4a",
   "metadata": {},
   "outputs": [],
   "source": [
    "# Please write your solution here"
   ]
  },
  {
   "cell_type": "markdown",
   "id": "4ce681c0",
   "metadata": {},
   "source": [
    "Damn, did we just overwrite our `variables` initial `values`? How does this work in `python`? "
   ]
  },
  {
   "cell_type": "code",
   "execution_count": null,
   "id": "8cac4bf0",
   "metadata": {},
   "outputs": [],
   "source": [
    "# Please write your solution here"
   ]
  },
  {
   "cell_type": "markdown",
   "id": "40b8b6da",
   "metadata": {},
   "source": [
    "KK, got it. Maybe we can make use of that and create two new `variables` called `group_control` and `group_target` that have the respective `values` now contained in the `group_1` and `group_2` variables!? How would you do that?"
   ]
  },
  {
   "cell_type": "code",
   "execution_count": null,
   "id": "4e77455a",
   "metadata": {},
   "outputs": [],
   "source": [
    "# Please write your solution here"
   ]
  },
  {
   "cell_type": "markdown",
   "id": "ac3f9c12",
   "metadata": {},
   "source": [
    "Alright, ready for some `statistics`? \n",
    "\n",
    "<img src=\"https://media0.giphy.com/media/9GIE3xNj6zKhEoIu7n/giphy.gif?cid=ecf05e4708z2c2b7m914wtigu3vgel9x1r50kvl2lky1h3d4&rid=giphy.gif&ct=g\" width=300 />\n",
    "<center><a href=\"https://media0.giphy.com/media/9GIE3xNj6zKhEoIu7n/giphy.gif?cid=ecf05e4708z2c2b7m914wtigu3vgel9x1r50kvl2lky1h3d4&rid=giphy.gif&ct=g\">via GIPHY</a></center>\n",
    "\n",
    "\n",
    "Lets start easy via computing the `min`, `max` and `mean` `value` for each of our `variables`. For this, we can use the respective `functions` we `imported` from `numpy`. To keep things handy, we want to store the output of these `functions` in new `variables`, for example `group_control_min`, `group_control_max`, `group_control_mean` and so on. How would you do this for each `variable` and `value` pairing? \n",
    "\n",
    "(Hint: computing the `min` `value` for `group_control` would work as follows: `group_control_min = np.min(group_control)`).    "
   ]
  },
  {
   "cell_type": "code",
   "execution_count": null,
   "id": "ed3e0e79",
   "metadata": {},
   "outputs": [],
   "source": [
    "# Please write your solution here"
   ]
  },
  {
   "cell_type": "markdown",
   "id": "6d421c10",
   "metadata": {},
   "source": [
    "Further we want to get the `mean` `value` of both our `control` and `target`group. Demonstrate how you can do that via the `np.mean()` function or using pythons inbuild mathematical `operators`.\n",
    "\n",
    "<img src=\"https://media3.giphy.com/media/118BgDvP27VbSo/giphy.gif?cid=790b76117498c5584cbbc7391b5b613f01ed9d54074d9c61&rid=giphy.gif&ct=g\" width=300 />\n",
    "<center><a href=\"https://media3.giphy.com/media/118BgDvP27VbSo/giphy.gif?cid=790b76117498c5584cbbc7391b5b613f01ed9d54074d9c61&rid=giphy.gif&ct=g\">via GIPHY</a></center>\n",
    "\n",
    "\n",
    "\n",
    "(_Hint_: comparing multiple values using np.mean() requires theuse of `square brackets`, e.g. `np.mean([a,b]`)"
   ]
  },
  {
   "cell_type": "code",
   "execution_count": null,
   "id": "9655b782",
   "metadata": {},
   "outputs": [],
   "source": [
    "# Please write your solution here"
   ]
  },
  {
   "cell_type": "markdown",
   "id": "b8992869",
   "metadata": {},
   "source": [
    "Please show the `data type` of our `mean value`!"
   ]
  },
  {
   "cell_type": "code",
   "execution_count": null,
   "id": "837d5ef5",
   "metadata": {},
   "outputs": [],
   "source": [
    "# Please write your solution here"
   ]
  },
  {
   "cell_type": "markdown",
   "id": "c65a743e",
   "metadata": {},
   "source": [
    "Could you change the `data type` of these `mean values`? For example could you change it to `int` and would this make sense? Assuming it would make sense, could you provide examples of how you would change `int` to `float`, `float` to `int`, as well as `float` to `str`? "
   ]
  },
  {
   "cell_type": "markdown",
   "id": "69542d55",
   "metadata": {},
   "source": [
    "Please provide your solution here"
   ]
  },
  {
   "cell_type": "code",
   "execution_count": null,
   "id": "c85d907f",
   "metadata": {},
   "outputs": [],
   "source": [
    "# Please write your solution here"
   ]
  },
  {
   "cell_type": "markdown",
   "id": "a3657e3a",
   "metadata": {},
   "source": [
    "Now that we have a few `descriptive statistics` for our `variables`, it's time for some `inference`. We will start with a simple `two-sample t-test` to compare the `mean values`. This can easily be done via the [ttest_ind](https://scipy.github.io/devdocs/reference/generated/scipy.stats.ttest_ind.html?highlight=ttest_ind#scipy.stats.ttest_ind) `function` of the [scipy.stats](https://scipy.github.io/devdocs/reference/stats.html?highlight=stats#module-scipy.stats) package. As you can see in the `docs`, we just need to provide our two `variables` as `input` for the `function` \n",
    "\n",
    "\n",
    "_Hint_: you can adapt the following `stats.ttest_ind(variable_1, variable_2)`"
   ]
  },
  {
   "cell_type": "code",
   "execution_count": null,
   "id": "044e6a1c",
   "metadata": {},
   "outputs": [],
   "source": [
    "# Please write your solution here"
   ]
  },
  {
   "cell_type": "markdown",
   "id": "da7b26b2",
   "metadata": {},
   "source": [
    "Are the `means` of our `variables` `significantly` different (given the \"good\" 'ol p<0.05 criteria)? Please, provide the answer via a `boolean` in a new `variable` called `variable_mean_different`. "
   ]
  },
  {
   "cell_type": "code",
   "execution_count": null,
   "id": "0ec604ba",
   "metadata": {},
   "outputs": [],
   "source": [
    "# Please write your solution here"
   ]
  },
  {
   "cell_type": "markdown",
   "id": "a0913a9d",
   "metadata": {},
   "source": [
    "### [4. Outro]()\n",
    "\n",
    "Welcome to the end, you did, great job! How about a few seconds of party?\n",
    "\n",
    "<img src=\"https://media4.giphy.com/media/U4DswrBiaz0p67ZweH/giphy.gif?cid=ecf05e47rmgdnyqd3vfer32fawbukljlg0eapgyrwzwzrv29&rid=giphy.gif&ct=gg\" width=300 />\n",
    "<center><a href=\"https://giphy.com/gifs/theoffice-U4DswrBiaz0p67ZweH\">via GIPHY</a></center>\n",
    "\n",
    "Please remember to save the `notebook` as described in the beginning and send it to Peer via e-mail. If you have questions, encountered problems and/or errors, please use the `cell` to outline things further. The same holds true for any type of `feedback`! "
   ]
  },
  {
   "cell_type": "markdown",
   "id": "f7482559",
   "metadata": {},
   "source": []
  },
  {
   "cell_type": "markdown",
   "id": "519b1946",
   "metadata": {},
   "source": [
    "Thanks for going through this `assignment`, we hope you found it useful and informative. `Feedback` on your work can also by provided and is just one e-mail or discord message away!"
   ]
  }
 ],
 "metadata": {
  "kernelspec": {
   "display_name": "Python 3 (ipykernel)",
   "language": "python",
   "name": "python3"
  },
  "language_info": {
   "codemirror_mode": {
    "name": "ipython",
    "version": 3
   },
   "file_extension": ".py",
   "mimetype": "text/x-python",
   "name": "python",
   "nbconvert_exporter": "python",
   "pygments_lexer": "ipython3",
   "version": "3.7.6"
  }
 },
 "nbformat": 4,
 "nbformat_minor": 5
}
