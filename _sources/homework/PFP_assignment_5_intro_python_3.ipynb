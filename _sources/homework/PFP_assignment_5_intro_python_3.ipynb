{
 "cells": [
  {
   "cell_type": "markdown",
   "id": "dbd58f9d",
   "metadata": {},
   "source": [
    "<img src=\"https://raw.githubusercontent.com/PeerHerholz/Python_for_Psychologists_Winter2021/master/lecture/static/pfp_logo.png\" width=300 />\n",
    "\n",
    "<center><h3>Homework assignment #5 - Introduction to Python - 3</h3></center>\n",
    "\n",
    "Ahoi hoi folks and welcome to homework assignment `#5` of the \"Python for Psychologists\" course, winter term 2022. Within this homework assignment you'll finih up with the `python` lessons. Again, if you encounter any problems along the way, please don't hesitate to get in touch or check back in the [`Introduction to Jupyter`](https://m-earnest.github.io/Python_for_Psychologists_Winter2022/introduction/introduction_4.html)  or the [`Intro to Python III`](https://m-earnest.github.io/Python_for_Psychologists_Winter2022/introduction/introduction_6.html) chapters on the course website.\n",
    "\n",
    "Some general points:\n",
    "\n",
    "Throughout the assignment you will be asked to either provide some `answers to questions in written form` or directly `code`. Regarding the first, you can just write your answer in the empty `markdown cells` below the questions. Regarding the second, you can write your `code` in the empty `code cells` below the questions and actually `run` it so that the output (if there's one) will be included in the notebook. The `number` and `type` of `cell` you need to answer a given questions will be indicated but if you want to use more `cells` please don't hesitate to add a few. If you see something like \"Type Markdown ... or Please provide your solution here\n",
    "\", you can just click (or double-click) on it to make it a `markdown cell`. If any of this sounds confusing or unclear you can again consult the [`Introduction to Jupyter`](https://m-earnest.github.io/Python_for_Psychologists_Winter2022/introduction/introduction_4.html) page. \n",
    "\n",
    "Please don't forget to save your `notebook` regularly (maybe every few minutes) either via `strg + s` on `windows` and `cmd + s` on `macOS`. Once you finished the `assignment`, pleas save the entire `notebook` via `File` -> `Save as...` and provide the following name `FirstNameSurname_pfp_2022_homework_assignment_5` where `FirstName` should be changed to your first name and `Surname` to your surname.\n",
    "\n",
    "The aim of this homework assignment is to go through the things we talked about in the session again and deepen your understanding of them. This will entail the following parts:\n",
    "\n",
    "[1. Control Flow operations]()  \n",
    "&nbsp;&nbsp;&nbsp;&nbsp;[a. if-else]()  \n",
    "&nbsp;&nbsp;&nbsp;&nbsp;[b. for-loops]()  \n",
    "&nbsp;&nbsp;&nbsp;&nbsp;[c. while-loops]()  \n",
    "[2. Functions]()  \n",
    "[3. Outro/Q&A]()    \n",
    "\n",
    "If some of the things asked here were actually not (sufficiently) covered during the session, please let me know. \n",
    "\n",
    "Again, I hope you have a great time and that you view this as less like an assignment and more like a fun add on to the session. Remember: Be a mover! Learning new things takes time and frustrations can't always be avoided. If you can't figure something out it's best to take some time off, do something enjoyable for a while and come back with a fresh mind.\n",
    "\n",
    "Again you putting in the effort is already fantastic and what really matters!\n",
    "\n",
    "<img src=\"https://media1.giphy.com/media/i8ILDlt7ahwLC/giphy.gif?cid=ecf05e47vpz9tft7o88llgxw1qrwetphvdo2gtjyh265jqqn&rid=giphy.gif&ct=g\" width=400 />\n",
    "<center><a href=\"https://giphy.com/gifs/i8ILDlt7ahwLC\">via Giphy</a></center>"
   ]
  },
  {
   "cell_type": "markdown",
   "id": "e7fc65ea",
   "metadata": {},
   "source": [
    "### Homework assignment #5\n",
    "\n",
    "#### [1. Control Flow]()  \n",
    "\n",
    "During the session we talked about different `control flow` methods in `Python`. Could you please list the ones we've discussed, what they do and when you'd use them? You can just write your answers in the `markdown cells` below.  "
   ]
  },
  {
   "cell_type": "markdown",
   "id": "cd951568",
   "metadata": {},
   "source": [
    "Please write your answer here."
   ]
  },
  {
   "cell_type": "markdown",
   "id": "27cf9e4d",
   "metadata": {},
   "source": [
    "Great, thank you! Now let's work with each of these a bit, so you get the hang of it. \n",
    "This time we will give you two `time series` that we want to compare a bit in this `homework assignment`. These `time series` could for example be the `brain activity` in two different `regions`. That means that each value in our `list`s represents one `time point`. "
   ]
  },
  {
   "cell_type": "code",
   "execution_count": 2,
   "id": "ce6eafa7",
   "metadata": {},
   "outputs": [],
   "source": [
    "ts_one = [0.13307103, 0.52482272, 0.90879086, 0.5456777 , 0.9319212 ,\n",
    "       0.19735405, 0.36852966, 0.02232372, 0.0799484 , 0.66565337,\n",
    "       0.98361107, 0.60459186, 0.4652598 , 0.38765896, 0.2889894 ,\n",
    "       0.68504588, 0.69733066, 0.2196992 , 0.6629188 , 0.86817003]\n",
    "\n",
    "ts_two = [0.89998698, 0.7969356 , 0.47385577, 0.15619482, 0.54274163,\n",
    "       0.82320681, 0.27859028, 0.47321448, 0.51521323, 0.96664894,\n",
    "       0.40658335, 0.0655123 , 0.88093774, 0.74728249, 0.47394902,\n",
    "       0.33324691, 0.70377158, 0.49065974, 0.60635258, 0.07307129]"
   ]
  },
  {
   "cell_type": "markdown",
   "id": "49e981be",
   "metadata": {},
   "source": [
    "#### [a. if-else]()  "
   ]
  },
  {
   "cell_type": "markdown",
   "id": "afca63ec",
   "metadata": {},
   "source": [
    "First, let us compare the number of `time points` in each `time series`. This is relevant, as otherwise it will lead to issues when we want to compare them later.\n",
    "\n",
    "Please `print` whether the two `time series` are equal in `length` using an `if` statement. Store the result of your comparison in a `variable` called `same_length` as a `boolean`. `Else` if they are `not equal` in `length`, please also indicate, which `time series` is longer (e.g. via `print`)."
   ]
  },
  {
   "cell_type": "code",
   "execution_count": null,
   "id": "ad42c784",
   "metadata": {},
   "outputs": [],
   "source": [
    "# Please write your solution here"
   ]
  },
  {
   "cell_type": "markdown",
   "id": "f7180e66",
   "metadata": {},
   "source": [
    "Awesome! Now we can use our `same_length` `variable` to do further analyses.\n",
    "\n",
    "Let's now also compute the `mean` of each `time series` and store it in a `variable`, but only if the `time series` have the `same length`! How would you do this? To calculate the `mean` of the `list`s you can go back to the previous `homework assignments` and sessions where we explored different options to do this or you could use simple math operators. "
   ]
  },
  {
   "cell_type": "code",
   "execution_count": null,
   "id": "57195100",
   "metadata": {},
   "outputs": [],
   "source": [
    "# Please write your solution here"
   ]
  },
  {
   "cell_type": "markdown",
   "id": "67441571",
   "metadata": {},
   "source": [
    "That's it for specific `if-else` exercises. If you still feel a bit unfamiliar with these statements, don't worry, you will get plenty of exercise in the following sections. "
   ]
  },
  {
   "cell_type": "markdown",
   "id": "63ff6c10",
   "metadata": {},
   "source": [
    "#### [b. for-loops]()  "
   ]
  },
  {
   "cell_type": "markdown",
   "id": "e67b635b",
   "metadata": {},
   "source": [
    "To verify if our calculations above were correct let's re-calculate the `mean` of each `time series` using a `for` loop. Please calculate the `mean` of each `time series` and store it in a `variable`.\n",
    "\n",
    "_Hint_: It's possible to update an existing variable in a for-loop by using the operators we've discussed in the last session."
   ]
  },
  {
   "cell_type": "code",
   "execution_count": null,
   "id": "95a75d61",
   "metadata": {},
   "outputs": [],
   "source": [
    "# Please write your solution here"
   ]
  },
  {
   "cell_type": "markdown",
   "id": "0ecadcf7",
   "metadata": {},
   "source": [
    "That's already a nice loop, well done. Next, we also want to calculate the `minimum` and `maximum` of these lists. Please implement this with a `for`-loop. \n",
    "\n",
    "First initialize the `variables` `max_ts_one` and `min_ts_one` with the first `element` of the `ts_one` list. Then `loop` over all `elements` in your `list` to check whether the current `element` is the new `maximum` or `minimum` and update the `values` `if` this is the case. Please do the same for the other `time series`.\n",
    "\n",
    "Hint: For this you will need an `if`-statement to analyze the `elements` in the `loop`. \n"
   ]
  },
  {
   "cell_type": "code",
   "execution_count": 3,
   "id": "d5004c19",
   "metadata": {},
   "outputs": [],
   "source": [
    "# Please write your solution here"
   ]
  },
  {
   "cell_type": "markdown",
   "id": "e6e306b3",
   "metadata": {},
   "source": [
    "For a later analysis you want to `square` each value in both `lists` separately. Please do so using a `for` loop and `appending` each squared `element` to a new list e.g, `ts_one_squared = []`."
   ]
  },
  {
   "cell_type": "code",
   "execution_count": 8,
   "id": "eec056d4",
   "metadata": {},
   "outputs": [],
   "source": [
    "# Please write your solution here"
   ]
  },
  {
   "cell_type": "markdown",
   "id": "30c5a656",
   "metadata": {},
   "source": [
    "</br>\n",
    "\n",
    "**_Optional Bonus_**: Looking through the [notebbok of this session](https://m-earnest.github.io/Python_for_Psychologists_Winter2022/introduction/intro_python_III.html) you'll encounter an easier way to do operations on each element of a list called `list comprehensions`. Using the examples in the lesson or the power of google, do the same as above (i.e. square each value in both lists separately)."
   ]
  },
  {
   "cell_type": "code",
   "execution_count": 9,
   "id": "5567c05b",
   "metadata": {},
   "outputs": [],
   "source": [
    "# Please write your solution here"
   ]
  },
  {
   "cell_type": "markdown",
   "id": "0a01d591",
   "metadata": {},
   "source": [
    "</br>\n",
    "\n",
    "In a short moment of weakness, you think it might be better to store the `ts_one` `list` in a `dictionary` instead of a `list`, where each `key` has the format: `TP_XX`, where `XX` represents the `index` of the `time point` in the `list`. \n",
    "Please define a `dictionary` `ts_one_dict` where you store the `values` in the proposed format. But to save yourself some effort use a `for`-loop to loop over the `elements` in the `list` and create the `key - value pair` which you want to add to your dictionary. \n",
    "\n",
    "\n",
    "_Hint_: the `enumerate` `function` might be useful. "
   ]
  },
  {
   "cell_type": "code",
   "execution_count": null,
   "id": "5edd76a2",
   "metadata": {},
   "outputs": [],
   "source": [
    "# Please write your solution here"
   ]
  },
  {
   "cell_type": "markdown",
   "id": "32aaf61b",
   "metadata": {},
   "source": [
    "Now that you have your `dictionary`, loop over it and `print` the `time point` \"name\" (stored in the `keys`) and the associated `value`, but only if the `value` is above `0.5`. If this is not the case simply `continue` to the next `time point`.\n",
    "\n",
    "_E.g. your printed key - value pairs could look like this_: `TP_0: 0.13307103`."
   ]
  },
  {
   "cell_type": "code",
   "execution_count": null,
   "id": "502a9f06",
   "metadata": {},
   "outputs": [],
   "source": [
    "# Please write your solution here"
   ]
  },
  {
   "cell_type": "markdown",
   "id": "80f2ab61",
   "metadata": {},
   "source": [
    "</br>\n",
    "\n",
    "**_Optional Bonus_**: You realize that maybe a `dictionary` wasn't that useful after all. Do you know how to `delete` a `variable` in `Python`? If so, please `delete` your `dictionary`."
   ]
  },
  {
   "cell_type": "code",
   "execution_count": null,
   "id": "785ac6b2",
   "metadata": {},
   "outputs": [],
   "source": [
    "# Please write your solution here"
   ]
  },
  {
   "cell_type": "markdown",
   "id": "1d2165d3",
   "metadata": {},
   "source": [
    "</br>\n",
    "\n",
    "You think that a `value` below `0.1` is implausible in your `analysis`. Therefore, you want to test if there is such a `value` in the `time series`. If so, you want to stop the `iteration` through the `list` and `print` a `statement` that you found an implausible `value` in the respective `list`. Please do this for both `list`s."
   ]
  },
  {
   "cell_type": "code",
   "execution_count": null,
   "id": "a7709ba1",
   "metadata": {},
   "outputs": [],
   "source": [
    "# Please write your solution here"
   ]
  },
  {
   "cell_type": "code",
   "execution_count": null,
   "id": "d4f2ef21",
   "metadata": {},
   "outputs": [],
   "source": [
    "# Please write your solution here"
   ]
  },
  {
   "cell_type": "markdown",
   "id": "73268eea",
   "metadata": {},
   "source": [
    "</br>\n",
    "\n",
    "#### [c. while-loops]()  "
   ]
  },
  {
   "cell_type": "markdown",
   "id": "5d1713af",
   "metadata": {},
   "source": [
    "Puh, that was a lot already. Let's now quickly review the `while`-loops. Could you please just quickly state, why one has to be a bit more careful when using `while` instead of `for` loops and what one could do when caught in an infinite loop?"
   ]
  },
  {
   "cell_type": "markdown",
   "id": "a7d2c780",
   "metadata": {},
   "source": [
    "Please write your solution here"
   ]
  },
  {
   "cell_type": "markdown",
   "id": "4493235a",
   "metadata": {},
   "source": [
    "`Time series` one shows `lower` values in the `beginning` than `time series two`. We are now interested in when this reverses, i.e., when do the values in `ts_one` become `larger` than in `ts_two`? To do so we will use a `while`-loop to `iterate` over the two `list`s and compare their `elements` to test whether `ts_one` is `larger` than `ts_two`. \n",
    "\n",
    "Define a `variable` `is_lower = True` that is set to `False` once `ts_one` is `larger` than `ts_two`. Once `ts_one` is `larger` than `ts_two` print the `index` of that `element`. \n",
    "\n",
    "_Hint_: You can use a `counter` `variable` that counts the number of `iterations` you spent in your loop. This `variable` is `zero` at first and `increases` with each `iteration`. This will also allow you to access the `elements` in your `list` and to `print` the `index` when `ts_one` exceeds `ts_two`.\n",
    "\n",
    "</br>\n",
    "\n",
    "**_Optional_**: What would you have to do, to not run into an `infinite loop` if `ts_one` is always `smaller` than `ts_two`?"
   ]
  },
  {
   "cell_type": "code",
   "execution_count": null,
   "id": "30167227",
   "metadata": {},
   "outputs": [],
   "source": [
    "# Please write your solution here"
   ]
  },
  {
   "cell_type": "markdown",
   "id": "dbb16c4e",
   "metadata": {},
   "source": [
    "#### [2. Functions]()  "
   ]
  },
  {
   "cell_type": "markdown",
   "id": "58f5056d",
   "metadata": {},
   "source": [
    "Now that the control flow is done, we are already at the last section of this `homework assignment`! \n",
    "\n",
    "Here we will use `functions` to make `coding` a bit more efficient, so you don't have to `copy & paste` that often. You will implement several `functions` in this section. However, before we start, could you please describe what `functions` are in python and name what important building blocks they entail?"
   ]
  },
  {
   "cell_type": "markdown",
   "id": "01b67ba1",
   "metadata": {},
   "source": [
    "Please write your solution here"
   ]
  },
  {
   "cell_type": "markdown",
   "id": "19814ba7",
   "metadata": {},
   "source": [
    "</br>\n",
    "\n",
    "Now lets create some `function`s that will ease up the processes you have worked on above. How about we start with a `function` that computes the `mean` of each `time series` and `print`s the respective results? A potential workflow could look like the following: \n",
    "\n",
    "- `define` a `function` that takes two `positional arguments`, i.e. the two `time series`\n",
    "- for each `time series` compute the `mean` as done above and assign it to a `variable`\n",
    "- `print` the `mean`s using `string formatting`, e.g. \"The mean value of time series 1 is: [insert_mean_value_here]\" "
   ]
  },
  {
   "cell_type": "code",
   "execution_count": null,
   "id": "6894845c",
   "metadata": {},
   "outputs": [],
   "source": [
    "# Please write your solution here"
   ]
  },
  {
   "cell_type": "markdown",
   "id": "56a0dfd6",
   "metadata": {},
   "source": [
    "</br>\n",
    "\n",
    "Oh my, that's awesome! However, we just did some _very bad_ `python programming`: we didn't add a `docstring` that describes what our `function` does, its `inputs` and what it `return`s.\n",
    "\n",
    "\n",
    "\n",
    "\n",
    "<img src=\"https://media0.giphy.com/media/Nm8ZPAGOwZUQM/giphy.gif?cid=ecf05e47fu3x26jvb945zga27w0wjdmku12jp7t7b85y68ml&rid=giphy.gif&ct=g\" width=300 />\n",
    "<center><a href=\"https://giphy.com/gifs/reaction-Nm8ZPAGOwZUQM\">via GIPHY</a></center>\n",
    "\n",
    "\n",
    "Could you please add a somewhat informative docstring?"
   ]
  },
  {
   "cell_type": "code",
   "execution_count": null,
   "id": "eaddbbaf",
   "metadata": {},
   "outputs": [],
   "source": [
    "# Please write your solution here"
   ]
  },
  {
   "cell_type": "markdown",
   "id": "f25f2cf9",
   "metadata": {},
   "source": [
    "</br>\n",
    "\n",
    "Now let's further evaluate if the `docstring` actually fulfills it's purpose by using the `help` `function` on your newly created `function`"
   ]
  },
  {
   "cell_type": "code",
   "execution_count": null,
   "id": "2196c664",
   "metadata": {},
   "outputs": [],
   "source": [
    "# Please write your solution here"
   ]
  },
  {
   "cell_type": "markdown",
   "id": "16443959",
   "metadata": {},
   "source": [
    "</br>\n",
    "\n",
    "Seems like everything works as expected, nice! One thing that might be a useful addition to our `function` would be the option to not only `print` the `mean` values but also `return` them. Remember ` python keywords`?\n",
    "\n",
    "\n",
    "A feasible way to implement this would be via an `keyword argument` that takes `booleans` as `value`s and has a `default value` of `False`. In other words: \n",
    "\n",
    "`If` the `keyword argument` is set to `False` or not indicated in the `function` call (thus, utilizing the `default value`) the `mean` `value`s should only be `print`ed like implemented in the previous function. However, if the `keyword argument` is set to `True`, the `mean` `value`s should be `print`ed and additionally `return`ed. Could you please update your `function` accordingly?  "
   ]
  },
  {
   "cell_type": "code",
   "execution_count": null,
   "id": "b2d114d0",
   "metadata": {},
   "outputs": [],
   "source": [
    "# Please write your solution here"
   ]
  },
  {
   "cell_type": "markdown",
   "id": "cd53989b",
   "metadata": {},
   "source": [
    "</br>\n",
    "\n",
    "Amazing! Given your fantastic work on this, could you please create corresponding `function`s for the `min` and `max` `value`s of the `time series`? You can of course choose if you want to create several `function`s or if you want to create one `function` that does it all.  "
   ]
  },
  {
   "cell_type": "code",
   "execution_count": null,
   "id": "2c1c7fe4",
   "metadata": {},
   "outputs": [],
   "source": [
    "# Please write your solution here"
   ]
  },
  {
   "cell_type": "markdown",
   "id": "a920b182",
   "metadata": {},
   "source": [
    "</br>\n",
    "\n",
    "**Optional bonus**:\n",
    "\n",
    "The remaining tasks within this part are _optional_ and thus don't need to be completed if you don't want to, this won't affect the final assessment of your `homework assignment`. However, we obviously strongly suggest that you give it a try as it will deepen your understanding of `functions` and the other parts of this and the previous sessions. So, let's get cooking!\n",
    "\n",
    "<img src=\"https://media4.giphy.com/media/Maru7Jd5OI0z0NpAB7/giphy.gif?cid=ecf05e47s2oqzbmvvahyw5hycodbnrg8gpq4fiw77q8r4kzg&rid=giphy.gif&ct=g\" width=400 />\n",
    "<center><a href=\"https://giphy.com/gifs/24HoursFOX-foxtv-gordon-ramsay-24-hours-to-hell-and-back-Maru7Jd5OI0z0NpAB7\">via GIPHY</a></center>\n",
    "\n",
    "</br>\n",
    "\n",
    "\n",
    "Overall, we want to implement a `function` to calculate the `correlation` between the two `time series` and also a `function` to `scale` the `values` between `0` and `1`. \n",
    "Please use `docstrings`, to indicate what each `function` does and to specify the `input parameters` and the `return value`.\n",
    "\n",
    "\n",
    "Let's first start with the correlation. \n",
    "To calculate the correlation between a variable $x$ and a variable $y$ we use the following equation:\n",
    "\n",
    "<center>$r(x,y) = \\sum_{i=1} ^N \\frac{x_i - \\mu_x}{\\sigma_x} \\frac{y_i - \\mu_y}{\\sigma_y} $ </center>\n",
    "\n",
    "where, $N$ is the number of data points, $\\mu$ is the mean and $\\sigma$ is the standard deviation of variable $x$ or $y$, respectively."
   ]
  },
  {
   "cell_type": "markdown",
   "id": "ac78f8df",
   "metadata": {},
   "source": [
    "Now, let's start with a function to calculate the `mean`. \n",
    "\n",
    "Define a function called `calc_mean` that takes exactly one list as argument and `returns` the mean value.\n",
    "\n",
    "You can simply copy your code from above into the `function`. In case you didn't know how to solve it above, please simply define a variable `mean_value`, set it to 0 and return it. "
   ]
  },
  {
   "cell_type": "code",
   "execution_count": 11,
   "id": "6f2b6ea1",
   "metadata": {},
   "outputs": [],
   "source": [
    "# Please write your solution here"
   ]
  },
  {
   "cell_type": "markdown",
   "id": "9b85602e",
   "metadata": {},
   "source": [
    "Nice, the basics are there!\n",
    "\n",
    "<img src=\"https://media4.giphy.com/media/l49JWcwxAHSCsRwd2/giphy.gif?cid=790b76117d4a10873ab2da5d29c8250c9d5733bd6d596dd1&rid=giphy.gif&ct=g\" width=400 />\n",
    "<center><a href=\"https://giphy.com/gifs/masterchef-junior-fox-foxtv-l49JWcwxAHSCsRwd2\">via GIPHY</a></center>\n",
    "\n",
    "</br>\n",
    "\n",
    "\n",
    "Now let's also create a `function` to calculate the `standard deviation`. The `standard deviation` is defined as follows:\n",
    "\n",
    "<center> $\\sigma_x = \\sqrt{\\frac{\\sum_i^N{(x - \\mu_x)^2}}{N}}$ </center>\n",
    "\n",
    "where, $N$ is the number of `data points` in the `list` $x$ and $\\mu_x$ is the `mean`.\n",
    "\n",
    "Let's write a function `calc_stdev` that takes a `list` as `input` and a `mean` as an `optional argument`. This can be achieved by setting the `default value` of the `mean` `input argument` to `None`. \n",
    "\n",
    "Following, if no `mean` is given, i.e., the `mean` is `equal` to it's `default value`, call your `function` from above to `calculate` the `mean` of the `input list`. The `function` should `return` the calculated `standard deviation`.\n",
    "\n",
    "You are free to implement this in the best way for you personally (as long as you use some kind of `loop` or `list comprehension`. Please refrain from `built-in functions`).\n",
    "\n",
    "In case you need some help, you can follow the steps below:\n",
    "- First, define a `variable`, where you will store your `final standard deviation` in. E.g. `st_dev`.\n",
    "- Then get $N$, which is the `length` of your `list`\n",
    "- In case that no `mean` was given, calculate it using your `function` from above and store it in a `variable` e.g. `mean_value`.\n",
    "- Loop over all `list elements`. For each `element` in the `loop`:\n",
    "    - `subtract` the `mean` from this `element` ($x - \\mu_x$)\n",
    "    - `square` the result and `divide` it by $N$\n",
    "    - Add the result of the previous step to your `standard deviation variable`\n",
    "- After you looped over all `elements` take the `square root` of `st_dev`. Remember the `square root` is the same as taking the `power of 0.5`\n",
    "- `return` your calculated `standard deviation`.\n",
    "\n"
   ]
  },
  {
   "cell_type": "code",
   "execution_count": 80,
   "id": "cfd26667",
   "metadata": {},
   "outputs": [],
   "source": [
    "# Please write your solution here"
   ]
  },
  {
   "cell_type": "markdown",
   "id": "0fa80394",
   "metadata": {},
   "source": [
    "Awesome job!\n",
    "\n",
    "\n",
    "\n",
    "<img src=\"https://media0.giphy.com/media/1Qmu9xwbXp0QclH9Jd/giphy.gif?cid=790b76117f4c90b916b18743f349283742d5bd058d0eda09&rid=giphy.gif&ct=g\" width=400 />\n",
    "<center><a href=\"https://giphy.com/gifs/masterchef-junior-1Qmu9xwbXp0QclH9Jd\">via GIPHY</a></center>\n",
    "\n",
    "</br>\n",
    "\n",
    "\n",
    "\n",
    "Okay, now we want to implement a `scaling function` that allows us to `standardize` or `normalize` (`min-max`) our data. `Scaling` your `data` can often times be useful. For example some `Machine-Learning algorithms` work best, when the data is between `0` and `1`.\n",
    "\n",
    "Data is `standardized` as follows:\n",
    "\n",
    "<center> $x_{standardized} = \\frac{(x - \\mu_x)}{\\sigma_x} $</center>\n",
    "\n",
    "where $\\mu_x$ is the `mean` of x and $\\sigma_x$ is the `standard deviation`.\n",
    "\n",
    "`Normalization` on the other hand works as follows:\n",
    "\n",
    "<center> $x_{normalized} = \\frac{(x - min_x)}{max_x - min_x} $</center>\n",
    "\n",
    "where $min_x$ and $max_x$ are the `minimum` and `maximum` in the `list` $x$, respectively."
   ]
  },
  {
   "cell_type": "markdown",
   "id": "7c116faa",
   "metadata": {},
   "source": [
    "For the `standard scaler` we already have all the preliminaries (`functions` to calculate the `mean` and `standard deviation`). We can now combine them in a `function` called `standardize` that will `standardize` our data.\n",
    "\n",
    "The `function` should take a `list` as `input argument` and return the `standardized list`. Again you are free to implement this on your own. If you couldn't implement one of the `functions` for the `mean` or the `standard deviation`, please simply use a `default value` of `1`. In case you need a little help, follow these steps:\n",
    "- Define a new (empty) `list` (e.g. `standardized`)\n",
    "- Calculate the `mean` and the `standard deviation` of the `input list` (e.g. ts_one)\n",
    "- Loop over the `elements` in your `list`. And for each `element` \n",
    "    - `Subtract` the `mean` \n",
    "    - `Divide` the result by the `standard deviation`\n",
    "    - Add the `value` to the `standardized list`\n",
    "- `return` the `standardized list`"
   ]
  },
  {
   "cell_type": "code",
   "execution_count": 43,
   "id": "ec506c0d",
   "metadata": {},
   "outputs": [],
   "source": [
    "# Please write your solution here"
   ]
  },
  {
   "cell_type": "markdown",
   "id": "13a2bd83",
   "metadata": {},
   "source": [
    "Great work, let's keep going!\n",
    "\n",
    "<img src=\"https://media1.giphy.com/media/3rSXUWynqovkUmKYAo/giphy.gif?cid=ecf05e47sips5na8hss7r418c43242k1nxxlht2j2kiodoxu&rid=giphy.gif&ct=g\" width=400 />\n",
    "<center><a href=\"https://giphy.com/gifs/hells-kitchen-fox-hells-kitchen-3rSXUWynqovkUmKYAo\">via GIPHY</a></center>\n",
    "\n",
    "</br>\n",
    "\n",
    "\n",
    "\n",
    "\n",
    "\n",
    "For the `min-max scaler`, we only need a `function` to calculate the `minimum` and `maximum`. You already did this somewhere above, so it's mainly copy and paste.\n",
    "\n",
    "Define a `function` called `calc_minima_maxima` that again takes one `list` as `input` and `returns` the `minimum` and `maximum` of this `list`. "
   ]
  },
  {
   "cell_type": "code",
   "execution_count": 1,
   "id": "001386b3",
   "metadata": {},
   "outputs": [],
   "source": [
    "# Please write your solution here"
   ]
  },
  {
   "cell_type": "markdown",
   "id": "3ad61cbb",
   "metadata": {},
   "source": [
    "</br>\n",
    "\n",
    "Next we'll write a function called `normal_scaler`, that takes a `list` as input, calculates the minimum and maximum of the `values` in the `input list` and scales every element of the list via the formula mentioned above:\n",
    "\n",
    "\n",
    "</br>\n",
    "\n",
    "<center> $x_{normalized} = \\frac{(x - min_x)}{max_x - min_x} $</center>\n",
    "\n",
    "</br>\n",
    "\n",
    "You can output a `list` containing the scaled values of the `input list` via the following steps:\n",
    "\n",
    "- Define a new (empty) `list` (e.g. `normalized`)\n",
    "- Calculate the `minimum` and the `maximum` of the `input list` (e.g. ts_one)\n",
    "- Loop over the `elements` in your `list`. And for each `element` \n",
    "    - subtract the `minimum`\n",
    "    - divide the result by the `difference` between the `maximum` and `minimum`\n",
    "    - add the `value` to the `normalized list`\n",
    "    - `return` the `normalized list`\n",
    "\n"
   ]
  },
  {
   "cell_type": "code",
   "execution_count": 59,
   "id": "e806dd67",
   "metadata": {},
   "outputs": [],
   "source": [
    "# Please write your solution here"
   ]
  },
  {
   "cell_type": "markdown",
   "id": "75a7be83",
   "metadata": {},
   "source": [
    "\n",
    "\n",
    "Amazing!\n",
    "\n",
    "\n",
    "<img src=\"https://media3.giphy.com/media/hTIti4BkceDG4iOK5V/giphy.gif?cid=790b7611ccee4847cd00b0f30e5bee704fc6b714c6531fe8&rid=giphy.gif&ct=g\" width=300 />\n",
    "<center><a href=\"https://giphy.com/gifs/masterchef-fox-foxtv-master-chef-hTIti4BkceDG4iOK5V\">via GIPHY</a></center>\n",
    "\n",
    "</br>\n",
    "\n",
    "Now we can assemble our scaler function using our two different scaling approaches. \n",
    "\n",
    "Define a `function` called `scaler` that takes a `list` as argument, as well as the `variable` `scale_type`. The `scale_type` argument will allow us to flexible decide, how we want to scale the `list`. It should have `standardize` as `default value`, meaning that we will `standardize` the data if not indicated otherwise. \n",
    "\n",
    "Use an `if` statement to test whether the `scale_type` argument is `standardize` or `normalize` and then call one of your above defined `scaling functions` accordingly.\n",
    "\n",
    "`Return` the `scaled list`."
   ]
  },
  {
   "cell_type": "code",
   "execution_count": 61,
   "id": "534281d6",
   "metadata": {},
   "outputs": [],
   "source": [
    "# Please write your solution here"
   ]
  },
  {
   "cell_type": "markdown",
   "id": "3fb4a1cd",
   "metadata": {},
   "source": [
    "</br>\n",
    "\n",
    "Okay, we are already at our last step! Good job keeping it up until here. \n",
    "\n",
    "\n",
    "\n",
    "\n",
    "\n",
    "\n",
    "<img src=\"https://media3.giphy.com/media/26BRDP1iv4gN1w1JC/giphy.gif?cid=ecf05e47d0st02nv45u2gg3qd0f8qrhr4fuggkcw22rp02yq&rid=giphy.gif&ct=g\" width=300 />\n",
    "<center><a href=\"https://giphy.com/gifs/masterchef-food-gordon-ramsay-home-cooks-26BRDP1iv4gN1w1JC\">via GIPHY</a></center>\n",
    "\n",
    "</br>\n",
    "</br>\n",
    "\n",
    "We next want to calculate the correlation between a `list` $x$ and a `list` $y$. We use the following equation:\n",
    "\n",
    "</br>\n",
    "\n",
    "<center>$r(x,y) = \\frac{1}{N} \\sum_{i=1} ^N \\frac{x_i - \\mu_x}{\\sigma_x} \\frac{y_i - \\mu_y}{\\sigma_y} $ </center>\n",
    "\n",
    "</br>\n",
    "\n",
    "where, $N$ is the number of data points, $\\mu$ is the `mean` and $\\sigma$ is the `standard deviation` of `variable` $x$ or $y$, respectively.\n",
    "\n",
    "You might notice, that this `function` includes the `scaled` versions of our `lists`. So we can rewrite the `function` to \n",
    "\n",
    "</br>\n",
    "\n",
    "<center>$r(x,y) =  \\frac{1}{N} \\sum_{i=1} ^N x_{standardized} y_{standardized} $ </center>\n",
    "\n"
   ]
  },
  {
   "cell_type": "markdown",
   "id": "803851d9",
   "metadata": {},
   "source": [
    "So, let's finally put it all together into one nice `function`. \n",
    "\n",
    "Write a `function` called `calc_correlation` that takes two `list`s as `input` and returns the `correlation` between them. Again you can solve this with any type of `loop` or `comprehension` you want. If you feel fancy, you can also implement this `function` using different `control flow operations`.\n",
    "\n",
    "Again, here are some steps to follow along:\n",
    "- First, check if the `input list`s have the same `length`. If not, the function should return `None`.\n",
    "- Initialize your `correlation` `variable` with a value of `0`\n",
    "- Get the length of the `list`s and store it in a `variable` `N`\n",
    "- `Standardize` each `list` (use your function from above)\n",
    "- Loop over the `range` of `N`, multiply the `elements` of both `list`s at each `index` and add them to your `correlation variable`\n",
    "- `divide` your `correlation variable` by $N$\n",
    "- return the `correlation`\n",
    "\n",
    "In case you want to try something: See what happens if you use `for x_elem, y_elem in zip(x, y):` to start your loop. Can you use this to calculate your correlation?"
   ]
  },
  {
   "cell_type": "code",
   "execution_count": 77,
   "id": "5c40fa86",
   "metadata": {},
   "outputs": [],
   "source": [
    "# Please write your solution here"
   ]
  },
  {
   "cell_type": "markdown",
   "id": "dfd1dffd",
   "metadata": {},
   "source": [
    "Amazing! You just wrote your very own correlation function. I hope this illustrates what functions are all about and how easy they are to use once we loose our reservations.\n",
    "\n",
    "\n",
    "\n",
    "\n",
    "<img src=\"https://media3.giphy.com/media/TIMB8bgHa1mb41tMaS/giphy.gif?cid=790b76117b1f940d9c872760b60b1b9df6b61b3c0df30583&rid=giphy.gif&ct=g\" width=400 />\n",
    "<center><a href=\"https://giphy.com/gifs/foxtv-cook-chefs-cooks-StdD1TkqFnP6WZKcFr\">via GIPHY</a></center>\n",
    "\n",
    "</br>"
   ]
  },
  {
   "cell_type": "markdown",
   "id": "0ce98a26",
   "metadata": {},
   "source": [
    "### [5. Outro/Q&A]()\n",
    "\n",
    "And that concludes our Introdocution to Python, thanks for keeping up! Awesome work, folks! \n",
    "\n",
    "<img src=\"https://media1.giphy.com/media/WQOGb64rKIfuyAfCaR/giphy.gif?cid=790b7611eda380284277dc94c21f3a1975ac161daaff487f&rid=giphy.gif&ct=g\" width=400 />\n",
    "<center><a href=\"https://giphy.com/gifs/masterchef-fox-foxtv-cooking-show-WQOGb64rKIfuyAfCaR\">via GIPHY</a></center>\n",
    "\n",
    "</br>\n",
    "</br>\n",
    "\n",
    "\n",
    "Please remember to save the `notebook` as described in the beginning and send it to `ernst@psych.uni-frankfurt.de` via `e-mail` as usual. If you have questions, encountered problems and/or errors, please use the `cell` to outline things further. The same holds true for any type of `feedback`! "
   ]
  },
  {
   "cell_type": "markdown",
   "id": "fc2bd452",
   "metadata": {},
   "source": [
    "Please provide feedback here"
   ]
  },
  {
   "cell_type": "markdown",
   "id": "0345588b",
   "metadata": {},
   "source": [
    "Thanks for going through this `assignment`, we hope you found it useful and informative (and at least somewhat fun, ey?). `Feedback` on your work can also by provided and is just one e-mail or discord message away!"
   ]
  }
 ],
 "metadata": {
  "kernelspec": {
   "display_name": "Python 3 (ipykernel)",
   "language": "python",
   "name": "python3"
  },
  "language_info": {
   "codemirror_mode": {
    "name": "ipython",
    "version": 3
   },
   "file_extension": ".py",
   "mimetype": "text/x-python",
   "name": "python",
   "nbconvert_exporter": "python",
   "pygments_lexer": "ipython3",
   "version": "3.7.6"
  }
 },
 "nbformat": 4,
 "nbformat_minor": 5
}
