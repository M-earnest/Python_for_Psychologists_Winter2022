{
 "cells": [
  {
   "cell_type": "markdown",
   "id": "65ee035c",
   "metadata": {},
   "source": [
    "# Python III Recap"
   ]
  },
  {
   "cell_type": "markdown",
   "id": "5087a9b3",
   "metadata": {},
   "source": [
    "[Last session](introduction/intro_python_III.html) was quite a lot! Let's have a quick recap..."
   ]
  },
  {
   "cell_type": "markdown",
   "id": "25562d0d",
   "metadata": {},
   "source": [
    "## Conditionals: `if`, `elif`, `else`\n",
    "\n",
    "Conditionals (*if*, *elif*, *else*) specify what action should be taken in different conditions.\n",
    "\n",
    "![](https://www.learnbyexample.org/wp-content/uploads/python/Python-elif-Statement-Syntax.png)"
   ]
  },
  {
   "cell_type": "markdown",
   "id": "4e62c22d",
   "metadata": {},
   "source": [
    "As an example, imagine that we want to decide which album to buy, based on how much money is in our `wallet`:\n",
    "* If we can afford the new Taylor Swift album (*19.99€* at Saturn), buy it.\n",
    "* If we can't afford that album, see whether we can afford a Mac Miller album (*14€*) instead.\n",
    "* If we can afford neither, we should go home."
   ]
  },
  {
   "cell_type": "code",
   "execution_count": 2,
   "id": "9ac127ab",
   "metadata": {},
   "outputs": [
    {
     "name": "stdout",
     "output_type": "stream",
     "text": [
      "Buy TS!\n"
     ]
    }
   ],
   "source": [
    "wallet = 30  # amount\n",
    "\n",
    "if wallet >= 19.99:\n",
    "    print('Buy TS!')\n",
    "elif wallet >= 14:\n",
    "    print('Buy MM')\n",
    "else:\n",
    "    print('Go Home :(')"
   ]
  },
  {
   "cell_type": "markdown",
   "id": "ed9ab5c7",
   "metadata": {},
   "source": [
    "## `for` Loops"
   ]
  },
  {
   "cell_type": "markdown",
   "id": "1c6e69fd",
   "metadata": {},
   "source": [
    "`for` loops iterate over objects. With a `for` loop, we can always tell how many iterations will be run before running the code (e.g., `len()` of the object being iterated over).\n",
    "\n",
    "Now, let's imagine that we have ***16€* in our `wallet`**, and want to know which of the following albums we can afford:\n",
    "\n",
    "* Taylor Swift - Midnight (*19.99€*)\n",
    "* Mac Miller - Circles (*14€*)\n",
    "* Arctic Monkeys - The Car (*15.99€*)\n",
    "* Alfa Mist - Antiphon (*25.50€*)\n",
    "\n",
    "Using a [*dictionary*](https://m-earnest.github.io/Python_for_Psychologists_Winter2022/introduction/intro_python_II.html#dictionaries) stored in `prices`, we want to check:\n",
    "* For each album, can we afford to buy it?\n",
    "\n",
    "Tips:\n",
    "* It might be useful to look at ways of iterating over dictionaries! You can find some info towards the end of [the section of Python III on loops](https://m-earnest.github.io/Python_for_Psychologists_Winter2022/introduction/intro_python_III.html#loops)"
   ]
  },
  {
   "cell_type": "code",
   "execution_count": 46,
   "id": "8ce0c857",
   "metadata": {},
   "outputs": [
    {
     "name": "stdout",
     "output_type": "stream",
     "text": [
      "You could buy Mac Miller - Circles\n",
      "You could buy Arctic Monkeys - The Car\n"
     ]
    }
   ],
   "source": [
    "wallet = 16\n",
    "\n",
    "prices = {'Taylor Swift - Midnight': 19.99,\n",
    "    'Mac Miller - Circles': 14,\n",
    "    'Arctic Monkeys - The Car': 15.99,\n",
    "    'Alfa Mist - Antiphon': 25.50}\n",
    "\n",
    "for k, v in prices.items():\n",
    "    if v <= wallet:\n",
    "        print('You could buy {}'.format(k))"
   ]
  },
  {
   "cell_type": "markdown",
   "id": "3a6663e7",
   "metadata": {},
   "source": [
    "## Control Flow Statements: `continue`, `break`, `pass`\n",
    "\n",
    "Control flow statements are useful for *changing the flow* of loops.\n",
    "\n",
    "* `continue`: move onto the next iteration without running any more code for the current iteration\n",
    "* `break`: don't run any more iterations in the loop\n",
    "* `pass`: do nothing (usually just included to avoid a syntax error...)\n",
    "\n",
    "As an example, let's rewrite versions of the loop above, to:\n",
    "1. Never consider albums that cost `>19`\n",
    "2. Stop altogether if Taylor Swift is detected\n",
    "3. Include an `if` statement that doesn't do anything because we haven't gotten round to writing it yet\n",
    "\n",
    "Why is the order of the flow statements important? Have a play around and find out!"
   ]
  },
  {
   "cell_type": "code",
   "execution_count": 38,
   "id": "8031f4d7",
   "metadata": {},
   "outputs": [
    {
     "name": "stdout",
     "output_type": "stream",
     "text": [
      "Hold on... Who put Taylor Swift in Here???\n"
     ]
    }
   ],
   "source": [
    "for k, v in prices.items():\n",
    "    if 'Taylor Swift' in k:\n",
    "        print('Hold on... Who put Taylor Swift in Here???')\n",
    "        break\n",
    "\n",
    "    if k[-1] == 's':\n",
    "        print('Skipping {} because it ends with \"s\"'.format(k))\n",
    "        continue\n",
    "\n",
    "    if v <= wallet:\n",
    "        print('You could buy {}'.format(k))"
   ]
  },
  {
   "cell_type": "markdown",
   "id": "0f2f8725",
   "metadata": {},
   "source": [
    "## `while` Loops\n",
    "\n",
    "### Simple `while` Example\n",
    "\n",
    "`while` loops keep running for as long as a certain condition is met. `while` loops are especially useful when we don't know ahead of time how many iterations we want to run for.\n",
    "\n",
    "As a reminder, here is an example of how a `while` loop might look:"
   ]
  },
  {
   "cell_type": "code",
   "execution_count": 40,
   "id": "5e5cf65c",
   "metadata": {},
   "outputs": [
    {
     "name": "stdout",
     "output_type": "stream",
     "text": [
      "2\n",
      "4\n",
      "16\n",
      "256\n",
      "65536\n",
      "[4, 16, 256, 65536, 4294967296]\n"
     ]
    }
   ],
   "source": [
    "x = 2  # the number that will be altered\n",
    "y = []  # a list to store the results\n",
    "\n",
    "while x < 1000000:\n",
    "    print(x)\n",
    "    x = x**2  # multiply x by itself\n",
    "    y.append(x)\n",
    "\n",
    "print(y)"
   ]
  },
  {
   "cell_type": "markdown",
   "id": "e65c89fe",
   "metadata": {},
   "source": [
    "**Question**: Why do you think the contents of `y` are different from the values that were printed? Where would you put the `print(x)` statement to make the print statements consistent with the contents of `y`?"
   ]
  },
  {
   "cell_type": "markdown",
   "id": "2c617cee",
   "metadata": {},
   "source": [
    "### `while` loop with control statements\n",
    "\n",
    "As with for loops, we can also use control functions to deal with iterations that fit different conditions. As an example, try changing the above code to never store the results if `x==16`.\n",
    "\n",
    "Tips:\n",
    "* A control statement isn't the only solution to this problem - how many solutions can you think of?"
   ]
  },
  {
   "cell_type": "code",
   "execution_count": 42,
   "id": "b08d4c54",
   "metadata": {},
   "outputs": [
    {
     "name": "stdout",
     "output_type": "stream",
     "text": [
      "2\n",
      "4\n",
      "16\n",
      "256\n",
      "65536\n",
      "[4, 256, 65536, 4294967296]\n"
     ]
    }
   ],
   "source": [
    "x = 2  # the number that will be altered\n",
    "y = []  # a list to store the results\n",
    "\n",
    "while x < 1000000:\n",
    "    print(x)\n",
    "    x = x**2  # multiply x by itself\n",
    "\n",
    "    if x == 16:\n",
    "        continue\n",
    "\n",
    "    y.append(x)\n",
    "\n",
    "print(y)"
   ]
  },
  {
   "cell_type": "markdown",
   "id": "108abf33",
   "metadata": {},
   "source": [
    "## Functions\n",
    "\n",
    "<img src=\"http://datascienceparichay.com/wp-content/uploads/2020/08/python-function-anatomy2-1024x576.png.webp\" width=\"35%\">\n",
    "\n",
    "A lot of the time, we have a block of code that we would like to run many times. Rather than copying and pasting, we can write a **function**.\n",
    "\n",
    "Functions:\n",
    "* Allow us to call a block of code that we should run, where the results can change depending on variable (parameter) values\n",
    "* Are defined using the `def` statement\n",
    "* List input arguments (e.g., `x`, `y`) in brackets, after the function name\n",
    "* Return hthe result using the `return` statement\n",
    "\n",
    "It is also common to add documentation to a function, in the form of a *docstring*. Adding documentation is useful for making your code readable, and allowing others to adapt your code to new uses.\n",
    "\n",
    "**Task**: Write a function that calls a for loop to work out which albums you could buy, where the current contents of the `wallet` are defined as an argument. The function should return a list of suitable films."
   ]
  },
  {
   "cell_type": "code",
   "execution_count": 45,
   "id": "7da69181",
   "metadata": {},
   "outputs": [
    {
     "name": "stdout",
     "output_type": "stream",
     "text": [
      "['Taylor Swift - Midnight', 'Mac Miller - Circles', 'Arctic Monkeys - The Car']\n"
     ]
    }
   ],
   "source": [
    "def which_albums(wallet):\n",
    "    \"\"\"\n",
    "    Return a list of albums you could afford\n",
    "\n",
    "    Keyword arguments:\n",
    "    wallet -- The current value in your wallet\n",
    "    \"\"\"\n",
    "\n",
    "    prices = {'Taylor Swift - Midnight': 19.99,\n",
    "        'Mac Miller - Circles': 14,\n",
    "        'Arctic Monkeys - The Car': 15.99,\n",
    "        'Alfa Mist - Antiphon': 25.50}\n",
    "\n",
    "    album_list = []\n",
    "\n",
    "    for k, v in prices.items():\n",
    "        if v <= wallet:\n",
    "            album_list.append(k)\n",
    "    \n",
    "    return(album_list)\n",
    "\n",
    "x = which_albums(wallet=20)\n",
    "print(x)"
   ]
  },
  {
   "cell_type": "markdown",
   "id": "c04255ab",
   "metadata": {},
   "source": [
    "## Showdown Time!\n",
    "\n",
    "Now let's get creative! We'll simulate a turn-taking fight between two pokemon: a *Snorlax* and a *Squirtle*...\n",
    "\n",
    "![Squirtle](https://assets.pokemon.com/assets/cms2/img/pokedex/full/007.png)\n",
    "![Snorlax](https://assets.pokemon.com/assets/cms2/img/pokedex/full/143.png)\n",
    "\n",
    "Rules:\n",
    "* The Snorlax attacks first\n",
    "* Each pokemon starts with 20 health\n",
    "* The pokemon take turns to attack, and give between 0 and 5 damage\n",
    "* The first pokemon to reach 0 health loses\n",
    "\n",
    "Tips:\n",
    "* We can use `break` to prevent the Squirtle from doing damage after it is dead\n",
    "* We can randomly sample integers from a list using the `randrange()` function:\n",
    "\n",
    "```python\n",
    "        from random import randrange\n",
    "        x = randrange(10)\n",
    "        print(x)\n",
    "```\n"
   ]
  },
  {
   "cell_type": "code",
   "execution_count": 37,
   "id": "c85c72fd",
   "metadata": {},
   "outputs": [
    {
     "name": "stdout",
     "output_type": "stream",
     "text": [
      "Snorlax attacks Squirtle: -0 damage (Squirtle = 20 hp)\n",
      "Squirtle attacks Snorlax: -1 damage (Snorlax = 19 hp)\n",
      "Snorlax attacks Squirtle: -2 damage (Squirtle = 18 hp)\n",
      "Squirtle attacks Snorlax: -4 damage (Snorlax = 15 hp)\n",
      "Snorlax attacks Squirtle: -3 damage (Squirtle = 15 hp)\n",
      "Squirtle attacks Snorlax: -1 damage (Snorlax = 14 hp)\n",
      "Snorlax attacks Squirtle: -2 damage (Squirtle = 13 hp)\n",
      "Squirtle attacks Snorlax: -5 damage (Snorlax = 9 hp)\n",
      "Snorlax attacks Squirtle: -3 damage (Squirtle = 10 hp)\n",
      "Squirtle attacks Snorlax: -0 damage (Snorlax = 9 hp)\n",
      "Snorlax attacks Squirtle: -1 damage (Squirtle = 9 hp)\n",
      "Squirtle attacks Snorlax: -5 damage (Snorlax = 4 hp)\n",
      "Snorlax attacks Squirtle: -4 damage (Squirtle = 5 hp)\n",
      "Squirtle attacks Snorlax: -2 damage (Snorlax = 2 hp)\n",
      "Snorlax attacks Squirtle: -3 damage (Squirtle = 2 hp)\n",
      "Squirtle wins!\n"
     ]
    }
   ],
   "source": [
    "from random import randrange\n",
    "\n",
    "snorlax = 20\n",
    "squirtle = 20\n",
    "\n",
    "while snorlax > 0 and squirtle > 0:\n",
    "    \n",
    "    snorlax_dmg = randrange(6)\n",
    "    squirtle -= snorlax_dmg\n",
    "\n",
    "    if squirtle <= 0:\n",
    "        print('Snorlax wins!')\n",
    "        break  # to avoid Squirtle from fighting back after it is dead!\n",
    "    else:\n",
    "        print('Snorlax attacks Squirtle: -{} damage (Squirtle = {} hp)'.format(snorlax_dmg, squirtle))\n",
    "\n",
    "    squirtle_dmg = randrange(6)\n",
    "    snorlax -= squirtle_dmg\n",
    "\n",
    "    if snorlax <= 0:\n",
    "        print('Squirtle wins!')\n",
    "    else:\n",
    "        print('Squirtle attacks Snorlax: -{} damage (Snorlax = {} hp)'.format(squirtle_dmg, snorlax))"
   ]
  },
  {
   "cell_type": "markdown",
   "id": "b30526e5",
   "metadata": {},
   "source": [
    "Based on these rules, the Snorlax is more likely to win because it always attacks first. Try changing some of the following to see how it affects the fight!\n",
    "\n",
    "1. Reduce the damage of the Snorlax's attacks\n",
    "2. Give the Squirtle an attack of *15 damage*, with a 1/50 probability\n",
    "3. Randomise which pokemon attacks first"
   ]
  }
 ],
 "metadata": {
  "kernelspec": {
   "display_name": "Python 3.10.6 ('orth')",
   "language": "python",
   "name": "python3"
  },
  "language_info": {
   "codemirror_mode": {
    "name": "ipython",
    "version": 3
   },
   "file_extension": ".py",
   "mimetype": "text/x-python",
   "name": "python",
   "nbconvert_exporter": "python",
   "pygments_lexer": "ipython3",
   "version": "3.10.6"
  },
  "vscode": {
   "interpreter": {
    "hash": "cca53995df8d96bda5eb6084efff3a8006332b486ffe6ba25e24f62450d0a76c"
   }
  }
 },
 "nbformat": 4,
 "nbformat_minor": 5
}
